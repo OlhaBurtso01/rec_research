{
 "cells": [
  {
   "cell_type": "code",
   "execution_count": 216,
   "metadata": {
    "pycharm": {
     "name": "#%%\n"
    }
   },
   "outputs": [],
   "source": [
    "%matplotlib inline\n",
    "import pandas as pd\n",
    "import numpy as np\n",
    "from ast import literal_eval\n",
    "from sklearn.feature_extraction.text import TfidfVectorizer, CountVectorizer\n",
    "from sklearn.metrics.pairwise import linear_kernel, cosine_similarity\n",
    "from nltk.stem.snowball import SnowballStemmer\n",
    "from surprise import Reader, Dataset, SVD\n",
    "import warnings; warnings.simplefilter('ignore')"
   ]
  },
  {
   "cell_type": "markdown",
   "metadata": {
    "pycharm": {
     "name": "#%% md\n"
    }
   },
   "source": [
    "##### Check data"
   ]
  },
  {
   "cell_type": "code",
   "execution_count": 217,
   "outputs": [],
   "source": [
    "# pd.set_option('max_colwidth', None)\n",
    "pd.set_option('display.max_columns', None)"
   ],
   "metadata": {
    "collapsed": false,
    "pycharm": {
     "name": "#%%\n"
    }
   }
  },
  {
   "cell_type": "code",
   "execution_count": 218,
   "metadata": {
    "pycharm": {
     "name": "#%%\n"
    }
   },
   "outputs": [
    {
     "data": {
      "text/plain": "                                                cast  \\\n0  [{'cast_id': 14, 'character': 'Woody (voice)',...   \n1  [{'cast_id': 1, 'character': 'Alan Parrish', '...   \n2  [{'cast_id': 2, 'character': 'Max Goldman', 'c...   \n3  [{'cast_id': 1, 'character': \"Savannah 'Vannah...   \n4  [{'cast_id': 1, 'character': 'George Banks', '...   \n\n                                                crew     id  \n0  [{'credit_id': '52fe4284c3a36847f8024f49', 'de...    862  \n1  [{'credit_id': '52fe44bfc3a36847f80a7cd1', 'de...   8844  \n2  [{'credit_id': '52fe466a9251416c75077a89', 'de...  15602  \n3  [{'credit_id': '52fe44779251416c91011acb', 'de...  31357  \n4  [{'credit_id': '52fe44959251416c75039ed7', 'de...  11862  ",
      "text/html": "<div>\n<style scoped>\n    .dataframe tbody tr th:only-of-type {\n        vertical-align: middle;\n    }\n\n    .dataframe tbody tr th {\n        vertical-align: top;\n    }\n\n    .dataframe thead th {\n        text-align: right;\n    }\n</style>\n<table border=\"1\" class=\"dataframe\">\n  <thead>\n    <tr style=\"text-align: right;\">\n      <th></th>\n      <th>cast</th>\n      <th>crew</th>\n      <th>id</th>\n    </tr>\n  </thead>\n  <tbody>\n    <tr>\n      <th>0</th>\n      <td>[{'cast_id': 14, 'character': 'Woody (voice)',...</td>\n      <td>[{'credit_id': '52fe4284c3a36847f8024f49', 'de...</td>\n      <td>862</td>\n    </tr>\n    <tr>\n      <th>1</th>\n      <td>[{'cast_id': 1, 'character': 'Alan Parrish', '...</td>\n      <td>[{'credit_id': '52fe44bfc3a36847f80a7cd1', 'de...</td>\n      <td>8844</td>\n    </tr>\n    <tr>\n      <th>2</th>\n      <td>[{'cast_id': 2, 'character': 'Max Goldman', 'c...</td>\n      <td>[{'credit_id': '52fe466a9251416c75077a89', 'de...</td>\n      <td>15602</td>\n    </tr>\n    <tr>\n      <th>3</th>\n      <td>[{'cast_id': 1, 'character': \"Savannah 'Vannah...</td>\n      <td>[{'credit_id': '52fe44779251416c91011acb', 'de...</td>\n      <td>31357</td>\n    </tr>\n    <tr>\n      <th>4</th>\n      <td>[{'cast_id': 1, 'character': 'George Banks', '...</td>\n      <td>[{'credit_id': '52fe44959251416c75039ed7', 'de...</td>\n      <td>11862</td>\n    </tr>\n  </tbody>\n</table>\n</div>"
     },
     "execution_count": 218,
     "metadata": {},
     "output_type": "execute_result"
    }
   ],
   "source": [
    "credits = pd.read_csv('data/credits.csv')\n",
    "credits.head()"
   ]
  },
  {
   "cell_type": "code",
   "execution_count": 219,
   "metadata": {},
   "outputs": [
    {
     "name": "stdout",
     "output_type": "stream",
     "text": [
      "<class 'pandas.core.frame.DataFrame'>\n",
      "RangeIndex: 45476 entries, 0 to 45475\n",
      "Data columns (total 3 columns):\n",
      " #   Column  Non-Null Count  Dtype \n",
      "---  ------  --------------  ----- \n",
      " 0   cast    45476 non-null  object\n",
      " 1   crew    45476 non-null  object\n",
      " 2   id      45476 non-null  int64 \n",
      "dtypes: int64(1), object(2)\n",
      "memory usage: 1.0+ MB\n"
     ]
    }
   ],
   "source": [
    "credits.info()"
   ]
  },
  {
   "cell_type": "code",
   "execution_count": 220,
   "metadata": {
    "pycharm": {
     "name": "#%%\n"
    }
   },
   "outputs": [
    {
     "data": {
      "text/plain": "      id                                           keywords\n0    862  [{'id': 931, 'name': 'jealousy'}, {'id': 4290,...\n1   8844  [{'id': 10090, 'name': 'board game'}, {'id': 1...\n2  15602  [{'id': 1495, 'name': 'fishing'}, {'id': 12392...\n3  31357  [{'id': 818, 'name': 'based on novel'}, {'id':...\n4  11862  [{'id': 1009, 'name': 'baby'}, {'id': 1599, 'n...",
      "text/html": "<div>\n<style scoped>\n    .dataframe tbody tr th:only-of-type {\n        vertical-align: middle;\n    }\n\n    .dataframe tbody tr th {\n        vertical-align: top;\n    }\n\n    .dataframe thead th {\n        text-align: right;\n    }\n</style>\n<table border=\"1\" class=\"dataframe\">\n  <thead>\n    <tr style=\"text-align: right;\">\n      <th></th>\n      <th>id</th>\n      <th>keywords</th>\n    </tr>\n  </thead>\n  <tbody>\n    <tr>\n      <th>0</th>\n      <td>862</td>\n      <td>[{'id': 931, 'name': 'jealousy'}, {'id': 4290,...</td>\n    </tr>\n    <tr>\n      <th>1</th>\n      <td>8844</td>\n      <td>[{'id': 10090, 'name': 'board game'}, {'id': 1...</td>\n    </tr>\n    <tr>\n      <th>2</th>\n      <td>15602</td>\n      <td>[{'id': 1495, 'name': 'fishing'}, {'id': 12392...</td>\n    </tr>\n    <tr>\n      <th>3</th>\n      <td>31357</td>\n      <td>[{'id': 818, 'name': 'based on novel'}, {'id':...</td>\n    </tr>\n    <tr>\n      <th>4</th>\n      <td>11862</td>\n      <td>[{'id': 1009, 'name': 'baby'}, {'id': 1599, 'n...</td>\n    </tr>\n  </tbody>\n</table>\n</div>"
     },
     "execution_count": 220,
     "metadata": {},
     "output_type": "execute_result"
    }
   ],
   "source": [
    "keywords = pd.read_csv('data/keywords.csv')\n",
    "keywords.head()"
   ]
  },
  {
   "cell_type": "code",
   "execution_count": 221,
   "metadata": {},
   "outputs": [
    {
     "name": "stdout",
     "output_type": "stream",
     "text": [
      "<class 'pandas.core.frame.DataFrame'>\n",
      "RangeIndex: 46419 entries, 0 to 46418\n",
      "Data columns (total 2 columns):\n",
      " #   Column    Non-Null Count  Dtype \n",
      "---  ------    --------------  ----- \n",
      " 0   id        46419 non-null  int64 \n",
      " 1   keywords  46419 non-null  object\n",
      "dtypes: int64(1), object(1)\n",
      "memory usage: 725.4+ KB\n"
     ]
    }
   ],
   "source": [
    "keywords.info()"
   ]
  },
  {
   "cell_type": "code",
   "execution_count": 222,
   "metadata": {},
   "outputs": [
    {
     "data": {
      "text/plain": "   movieId  imdbId   tmdbId\n0        1  114709    862.0\n1        2  113497   8844.0\n2        3  113228  15602.0\n3        4  114885  31357.0\n4        5  113041  11862.0",
      "text/html": "<div>\n<style scoped>\n    .dataframe tbody tr th:only-of-type {\n        vertical-align: middle;\n    }\n\n    .dataframe tbody tr th {\n        vertical-align: top;\n    }\n\n    .dataframe thead th {\n        text-align: right;\n    }\n</style>\n<table border=\"1\" class=\"dataframe\">\n  <thead>\n    <tr style=\"text-align: right;\">\n      <th></th>\n      <th>movieId</th>\n      <th>imdbId</th>\n      <th>tmdbId</th>\n    </tr>\n  </thead>\n  <tbody>\n    <tr>\n      <th>0</th>\n      <td>1</td>\n      <td>114709</td>\n      <td>862.0</td>\n    </tr>\n    <tr>\n      <th>1</th>\n      <td>2</td>\n      <td>113497</td>\n      <td>8844.0</td>\n    </tr>\n    <tr>\n      <th>2</th>\n      <td>3</td>\n      <td>113228</td>\n      <td>15602.0</td>\n    </tr>\n    <tr>\n      <th>3</th>\n      <td>4</td>\n      <td>114885</td>\n      <td>31357.0</td>\n    </tr>\n    <tr>\n      <th>4</th>\n      <td>5</td>\n      <td>113041</td>\n      <td>11862.0</td>\n    </tr>\n  </tbody>\n</table>\n</div>"
     },
     "execution_count": 222,
     "metadata": {},
     "output_type": "execute_result"
    }
   ],
   "source": [
    "links_small = pd.read_csv('data/links_small.csv')\n",
    "links_small.head()"
   ]
  },
  {
   "cell_type": "code",
   "execution_count": 223,
   "metadata": {},
   "outputs": [
    {
     "name": "stdout",
     "output_type": "stream",
     "text": [
      "<class 'pandas.core.frame.DataFrame'>\n",
      "RangeIndex: 9125 entries, 0 to 9124\n",
      "Data columns (total 3 columns):\n",
      " #   Column   Non-Null Count  Dtype  \n",
      "---  ------   --------------  -----  \n",
      " 0   movieId  9125 non-null   int64  \n",
      " 1   imdbId   9125 non-null   int64  \n",
      " 2   tmdbId   9112 non-null   float64\n",
      "dtypes: float64(1), int64(2)\n",
      "memory usage: 214.0 KB\n"
     ]
    }
   ],
   "source": [
    "links_small.info()"
   ]
  },
  {
   "cell_type": "code",
   "execution_count": 224,
   "metadata": {
    "pycharm": {
     "name": "#%%\n"
    }
   },
   "outputs": [
    {
     "data": {
      "text/plain": "   userId  movieId  rating   timestamp\n0       1       31     2.5  1260759144\n1       1     1029     3.0  1260759179\n2       1     1061     3.0  1260759182\n3       1     1129     2.0  1260759185\n4       1     1172     4.0  1260759205",
      "text/html": "<div>\n<style scoped>\n    .dataframe tbody tr th:only-of-type {\n        vertical-align: middle;\n    }\n\n    .dataframe tbody tr th {\n        vertical-align: top;\n    }\n\n    .dataframe thead th {\n        text-align: right;\n    }\n</style>\n<table border=\"1\" class=\"dataframe\">\n  <thead>\n    <tr style=\"text-align: right;\">\n      <th></th>\n      <th>userId</th>\n      <th>movieId</th>\n      <th>rating</th>\n      <th>timestamp</th>\n    </tr>\n  </thead>\n  <tbody>\n    <tr>\n      <th>0</th>\n      <td>1</td>\n      <td>31</td>\n      <td>2.5</td>\n      <td>1260759144</td>\n    </tr>\n    <tr>\n      <th>1</th>\n      <td>1</td>\n      <td>1029</td>\n      <td>3.0</td>\n      <td>1260759179</td>\n    </tr>\n    <tr>\n      <th>2</th>\n      <td>1</td>\n      <td>1061</td>\n      <td>3.0</td>\n      <td>1260759182</td>\n    </tr>\n    <tr>\n      <th>3</th>\n      <td>1</td>\n      <td>1129</td>\n      <td>2.0</td>\n      <td>1260759185</td>\n    </tr>\n    <tr>\n      <th>4</th>\n      <td>1</td>\n      <td>1172</td>\n      <td>4.0</td>\n      <td>1260759205</td>\n    </tr>\n  </tbody>\n</table>\n</div>"
     },
     "execution_count": 224,
     "metadata": {},
     "output_type": "execute_result"
    }
   ],
   "source": [
    "ratings = pd.read_csv('data/ratings_small.csv')\n",
    "ratings.head()"
   ]
  },
  {
   "cell_type": "code",
   "execution_count": 225,
   "metadata": {},
   "outputs": [
    {
     "name": "stdout",
     "output_type": "stream",
     "text": [
      "<class 'pandas.core.frame.DataFrame'>\n",
      "RangeIndex: 100004 entries, 0 to 100003\n",
      "Data columns (total 4 columns):\n",
      " #   Column     Non-Null Count   Dtype  \n",
      "---  ------     --------------   -----  \n",
      " 0   userId     100004 non-null  int64  \n",
      " 1   movieId    100004 non-null  int64  \n",
      " 2   rating     100004 non-null  float64\n",
      " 3   timestamp  100004 non-null  int64  \n",
      "dtypes: float64(1), int64(3)\n",
      "memory usage: 3.1 MB\n"
     ]
    }
   ],
   "source": [
    "ratings.info()"
   ]
  },
  {
   "cell_type": "code",
   "execution_count": 226,
   "metadata": {
    "pycharm": {
     "name": "#%%\n"
    }
   },
   "outputs": [
    {
     "data": {
      "text/plain": "   adult                              belongs_to_collection    budget  \\\n0  False  {'id': 10194, 'name': 'Toy Story Collection', ...  30000000   \n1  False                                                NaN  65000000   \n2  False  {'id': 119050, 'name': 'Grumpy Old Men Collect...         0   \n3  False                                                NaN  16000000   \n4  False  {'id': 96871, 'name': 'Father of the Bride Col...         0   \n\n                                              genres  \\\n0  [{'id': 16, 'name': 'Animation'}, {'id': 35, '...   \n1  [{'id': 12, 'name': 'Adventure'}, {'id': 14, '...   \n2  [{'id': 10749, 'name': 'Romance'}, {'id': 35, ...   \n3  [{'id': 35, 'name': 'Comedy'}, {'id': 18, 'nam...   \n4                     [{'id': 35, 'name': 'Comedy'}]   \n\n                               homepage     id    imdb_id original_language  \\\n0  http://toystory.disney.com/toy-story    862  tt0114709                en   \n1                                   NaN   8844  tt0113497                en   \n2                                   NaN  15602  tt0113228                en   \n3                                   NaN  31357  tt0114885                en   \n4                                   NaN  11862  tt0113041                en   \n\n                original_title  \\\n0                    Toy Story   \n1                      Jumanji   \n2             Grumpier Old Men   \n3            Waiting to Exhale   \n4  Father of the Bride Part II   \n\n                                            overview popularity  \\\n0  Led by Woody, Andy's toys live happily in his ...    21.9469   \n1  When siblings Judy and Peter discover an encha...    17.0155   \n2  A family wedding reignites the ancient feud be...    11.7129   \n3  Cheated on, mistreated and stepped on, the wom...    3.85949   \n4  Just when George Banks has recovered from his ...    8.38752   \n\n                        poster_path  \\\n0  /rhIRbceoE9lR4veEXuwCC2wARtG.jpg   \n1  /vzmL6fP7aPKNKPRTFnZmiUfciyV.jpg   \n2  /6ksm1sjKMFLbO7UY2i6G1ju9SML.jpg   \n3  /16XOMpEaLWkrcPqSQqhTmeJuqQl.jpg   \n4  /e64sOI48hQXyru7naBFyssKFxVd.jpg   \n\n                                production_companies  \\\n0     [{'name': 'Pixar Animation Studios', 'id': 3}]   \n1  [{'name': 'TriStar Pictures', 'id': 559}, {'na...   \n2  [{'name': 'Warner Bros.', 'id': 6194}, {'name'...   \n3  [{'name': 'Twentieth Century Fox Film Corporat...   \n4  [{'name': 'Sandollar Productions', 'id': 5842}...   \n\n                                production_countries release_date  \\\n0  [{'iso_3166_1': 'US', 'name': 'United States o...   1995-10-30   \n1  [{'iso_3166_1': 'US', 'name': 'United States o...   1995-12-15   \n2  [{'iso_3166_1': 'US', 'name': 'United States o...   1995-12-22   \n3  [{'iso_3166_1': 'US', 'name': 'United States o...   1995-12-22   \n4  [{'iso_3166_1': 'US', 'name': 'United States o...   1995-02-10   \n\n       revenue  runtime                                   spoken_languages  \\\n0  373554033.0     81.0           [{'iso_639_1': 'en', 'name': 'English'}]   \n1  262797249.0    104.0  [{'iso_639_1': 'en', 'name': 'English'}, {'iso...   \n2          0.0    101.0           [{'iso_639_1': 'en', 'name': 'English'}]   \n3   81452156.0    127.0           [{'iso_639_1': 'en', 'name': 'English'}]   \n4   76578911.0    106.0           [{'iso_639_1': 'en', 'name': 'English'}]   \n\n     status                                            tagline  \\\n0  Released                                                NaN   \n1  Released          Roll the dice and unleash the excitement!   \n2  Released  Still Yelling. Still Fighting. Still Ready for...   \n3  Released  Friends are the people who let you be yourself...   \n4  Released  Just When His World Is Back To Normal... He's ...   \n\n                         title  video  vote_average  vote_count  \n0                    Toy Story  False           7.7      5415.0  \n1                      Jumanji  False           6.9      2413.0  \n2             Grumpier Old Men  False           6.5        92.0  \n3            Waiting to Exhale  False           6.1        34.0  \n4  Father of the Bride Part II  False           5.7       173.0  ",
      "text/html": "<div>\n<style scoped>\n    .dataframe tbody tr th:only-of-type {\n        vertical-align: middle;\n    }\n\n    .dataframe tbody tr th {\n        vertical-align: top;\n    }\n\n    .dataframe thead th {\n        text-align: right;\n    }\n</style>\n<table border=\"1\" class=\"dataframe\">\n  <thead>\n    <tr style=\"text-align: right;\">\n      <th></th>\n      <th>adult</th>\n      <th>belongs_to_collection</th>\n      <th>budget</th>\n      <th>genres</th>\n      <th>homepage</th>\n      <th>id</th>\n      <th>imdb_id</th>\n      <th>original_language</th>\n      <th>original_title</th>\n      <th>overview</th>\n      <th>popularity</th>\n      <th>poster_path</th>\n      <th>production_companies</th>\n      <th>production_countries</th>\n      <th>release_date</th>\n      <th>revenue</th>\n      <th>runtime</th>\n      <th>spoken_languages</th>\n      <th>status</th>\n      <th>tagline</th>\n      <th>title</th>\n      <th>video</th>\n      <th>vote_average</th>\n      <th>vote_count</th>\n    </tr>\n  </thead>\n  <tbody>\n    <tr>\n      <th>0</th>\n      <td>False</td>\n      <td>{'id': 10194, 'name': 'Toy Story Collection', ...</td>\n      <td>30000000</td>\n      <td>[{'id': 16, 'name': 'Animation'}, {'id': 35, '...</td>\n      <td>http://toystory.disney.com/toy-story</td>\n      <td>862</td>\n      <td>tt0114709</td>\n      <td>en</td>\n      <td>Toy Story</td>\n      <td>Led by Woody, Andy's toys live happily in his ...</td>\n      <td>21.9469</td>\n      <td>/rhIRbceoE9lR4veEXuwCC2wARtG.jpg</td>\n      <td>[{'name': 'Pixar Animation Studios', 'id': 3}]</td>\n      <td>[{'iso_3166_1': 'US', 'name': 'United States o...</td>\n      <td>1995-10-30</td>\n      <td>373554033.0</td>\n      <td>81.0</td>\n      <td>[{'iso_639_1': 'en', 'name': 'English'}]</td>\n      <td>Released</td>\n      <td>NaN</td>\n      <td>Toy Story</td>\n      <td>False</td>\n      <td>7.7</td>\n      <td>5415.0</td>\n    </tr>\n    <tr>\n      <th>1</th>\n      <td>False</td>\n      <td>NaN</td>\n      <td>65000000</td>\n      <td>[{'id': 12, 'name': 'Adventure'}, {'id': 14, '...</td>\n      <td>NaN</td>\n      <td>8844</td>\n      <td>tt0113497</td>\n      <td>en</td>\n      <td>Jumanji</td>\n      <td>When siblings Judy and Peter discover an encha...</td>\n      <td>17.0155</td>\n      <td>/vzmL6fP7aPKNKPRTFnZmiUfciyV.jpg</td>\n      <td>[{'name': 'TriStar Pictures', 'id': 559}, {'na...</td>\n      <td>[{'iso_3166_1': 'US', 'name': 'United States o...</td>\n      <td>1995-12-15</td>\n      <td>262797249.0</td>\n      <td>104.0</td>\n      <td>[{'iso_639_1': 'en', 'name': 'English'}, {'iso...</td>\n      <td>Released</td>\n      <td>Roll the dice and unleash the excitement!</td>\n      <td>Jumanji</td>\n      <td>False</td>\n      <td>6.9</td>\n      <td>2413.0</td>\n    </tr>\n    <tr>\n      <th>2</th>\n      <td>False</td>\n      <td>{'id': 119050, 'name': 'Grumpy Old Men Collect...</td>\n      <td>0</td>\n      <td>[{'id': 10749, 'name': 'Romance'}, {'id': 35, ...</td>\n      <td>NaN</td>\n      <td>15602</td>\n      <td>tt0113228</td>\n      <td>en</td>\n      <td>Grumpier Old Men</td>\n      <td>A family wedding reignites the ancient feud be...</td>\n      <td>11.7129</td>\n      <td>/6ksm1sjKMFLbO7UY2i6G1ju9SML.jpg</td>\n      <td>[{'name': 'Warner Bros.', 'id': 6194}, {'name'...</td>\n      <td>[{'iso_3166_1': 'US', 'name': 'United States o...</td>\n      <td>1995-12-22</td>\n      <td>0.0</td>\n      <td>101.0</td>\n      <td>[{'iso_639_1': 'en', 'name': 'English'}]</td>\n      <td>Released</td>\n      <td>Still Yelling. Still Fighting. Still Ready for...</td>\n      <td>Grumpier Old Men</td>\n      <td>False</td>\n      <td>6.5</td>\n      <td>92.0</td>\n    </tr>\n    <tr>\n      <th>3</th>\n      <td>False</td>\n      <td>NaN</td>\n      <td>16000000</td>\n      <td>[{'id': 35, 'name': 'Comedy'}, {'id': 18, 'nam...</td>\n      <td>NaN</td>\n      <td>31357</td>\n      <td>tt0114885</td>\n      <td>en</td>\n      <td>Waiting to Exhale</td>\n      <td>Cheated on, mistreated and stepped on, the wom...</td>\n      <td>3.85949</td>\n      <td>/16XOMpEaLWkrcPqSQqhTmeJuqQl.jpg</td>\n      <td>[{'name': 'Twentieth Century Fox Film Corporat...</td>\n      <td>[{'iso_3166_1': 'US', 'name': 'United States o...</td>\n      <td>1995-12-22</td>\n      <td>81452156.0</td>\n      <td>127.0</td>\n      <td>[{'iso_639_1': 'en', 'name': 'English'}]</td>\n      <td>Released</td>\n      <td>Friends are the people who let you be yourself...</td>\n      <td>Waiting to Exhale</td>\n      <td>False</td>\n      <td>6.1</td>\n      <td>34.0</td>\n    </tr>\n    <tr>\n      <th>4</th>\n      <td>False</td>\n      <td>{'id': 96871, 'name': 'Father of the Bride Col...</td>\n      <td>0</td>\n      <td>[{'id': 35, 'name': 'Comedy'}]</td>\n      <td>NaN</td>\n      <td>11862</td>\n      <td>tt0113041</td>\n      <td>en</td>\n      <td>Father of the Bride Part II</td>\n      <td>Just when George Banks has recovered from his ...</td>\n      <td>8.38752</td>\n      <td>/e64sOI48hQXyru7naBFyssKFxVd.jpg</td>\n      <td>[{'name': 'Sandollar Productions', 'id': 5842}...</td>\n      <td>[{'iso_3166_1': 'US', 'name': 'United States o...</td>\n      <td>1995-02-10</td>\n      <td>76578911.0</td>\n      <td>106.0</td>\n      <td>[{'iso_639_1': 'en', 'name': 'English'}]</td>\n      <td>Released</td>\n      <td>Just When His World Is Back To Normal... He's ...</td>\n      <td>Father of the Bride Part II</td>\n      <td>False</td>\n      <td>5.7</td>\n      <td>173.0</td>\n    </tr>\n  </tbody>\n</table>\n</div>"
     },
     "execution_count": 226,
     "metadata": {},
     "output_type": "execute_result"
    }
   ],
   "source": [
    "movies_metadata = pd.read_csv('data/movies_metadata.csv')\n",
    "movies_metadata.head()"
   ]
  },
  {
   "cell_type": "code",
   "execution_count": 227,
   "metadata": {},
   "outputs": [
    {
     "name": "stdout",
     "output_type": "stream",
     "text": [
      "<class 'pandas.core.frame.DataFrame'>\n",
      "RangeIndex: 45466 entries, 0 to 45465\n",
      "Data columns (total 24 columns):\n",
      " #   Column                 Non-Null Count  Dtype  \n",
      "---  ------                 --------------  -----  \n",
      " 0   adult                  45466 non-null  object \n",
      " 1   belongs_to_collection  4494 non-null   object \n",
      " 2   budget                 45466 non-null  object \n",
      " 3   genres                 45466 non-null  object \n",
      " 4   homepage               7782 non-null   object \n",
      " 5   id                     45466 non-null  object \n",
      " 6   imdb_id                45449 non-null  object \n",
      " 7   original_language      45455 non-null  object \n",
      " 8   original_title         45466 non-null  object \n",
      " 9   overview               44512 non-null  object \n",
      " 10  popularity             45461 non-null  object \n",
      " 11  poster_path            45080 non-null  object \n",
      " 12  production_companies   45463 non-null  object \n",
      " 13  production_countries   45463 non-null  object \n",
      " 14  release_date           45379 non-null  object \n",
      " 15  revenue                45460 non-null  float64\n",
      " 16  runtime                45203 non-null  float64\n",
      " 17  spoken_languages       45460 non-null  object \n",
      " 18  status                 45379 non-null  object \n",
      " 19  tagline                20412 non-null  object \n",
      " 20  title                  45460 non-null  object \n",
      " 21  video                  45460 non-null  object \n",
      " 22  vote_average           45460 non-null  float64\n",
      " 23  vote_count             45460 non-null  float64\n",
      "dtypes: float64(4), object(20)\n",
      "memory usage: 8.3+ MB\n"
     ]
    }
   ],
   "source": [
    "movies_metadata.info()"
   ]
  },
  {
   "cell_type": "markdown",
   "source": [
    "Prepare WR"
   ],
   "metadata": {
    "collapsed": false,
    "pycharm": {
     "name": "#%% md\n"
    }
   }
  },
  {
   "cell_type": "code",
   "execution_count": 228,
   "outputs": [],
   "source": [
    "movies_metadata['genres'] = movies_metadata['genres'].fillna('[]').apply(literal_eval).apply(lambda x: [i['name'] for i in x] if isinstance(x, list) else [])"
   ],
   "metadata": {
    "collapsed": false,
    "pycharm": {
     "name": "#%%\n"
    }
   }
  },
  {
   "cell_type": "code",
   "execution_count": 229,
   "metadata": {
    "pycharm": {
     "name": "#%%\n"
    }
   },
   "outputs": [
    {
     "data": {
      "text/plain": "5.244896612406511"
     },
     "execution_count": 229,
     "metadata": {},
     "output_type": "execute_result"
    }
   ],
   "source": [
    "vote_counts = movies_metadata[movies_metadata['vote_count'].notnull()]['vote_count'].astype('int')\n",
    "vote_averages = movies_metadata[movies_metadata['vote_average'].notnull()]['vote_average'].astype('int')\n",
    "C = vote_averages.mean()\n",
    "C"
   ]
  },
  {
   "cell_type": "code",
   "execution_count": 230,
   "metadata": {
    "pycharm": {
     "name": "#%%\n"
    }
   },
   "outputs": [
    {
     "data": {
      "text/plain": "434.0"
     },
     "execution_count": 230,
     "metadata": {},
     "output_type": "execute_result"
    }
   ],
   "source": [
    "m = vote_counts.quantile(0.95)\n",
    "m"
   ]
  },
  {
   "cell_type": "code",
   "execution_count": 231,
   "metadata": {
    "pycharm": {
     "name": "#%%\n"
    }
   },
   "outputs": [],
   "source": [
    "movies_metadata['year'] = pd.to_datetime(movies_metadata['release_date'], errors='coerce').apply(lambda x: str(x).split('-')[0] if x != np.nan else np.nan)"
   ]
  },
  {
   "cell_type": "code",
   "execution_count": 232,
   "metadata": {
    "pycharm": {
     "name": "#%%\n"
    }
   },
   "outputs": [
    {
     "data": {
      "text/plain": "(2274, 6)"
     },
     "execution_count": 232,
     "metadata": {},
     "output_type": "execute_result"
    }
   ],
   "source": [
    "top_movies = movies_metadata[(movies_metadata['vote_count'] >= m) & (movies_metadata['vote_count'].notnull()) & (movies_metadata['vote_average'].notnull())][['title', 'year', 'vote_count', 'vote_average', 'popularity', 'genres']]\n",
    "top_movies['vote_count'] = top_movies['vote_count'].astype('int')\n",
    "top_movies['vote_average'] = top_movies['vote_average'].astype('int')\n",
    "top_movies.shape"
   ]
  },
  {
   "cell_type": "code",
   "execution_count": 233,
   "metadata": {
    "pycharm": {
     "name": "#%%\n"
    }
   },
   "outputs": [],
   "source": [
    "def weighted_rating(x):\n",
    "    v = x['vote_count']\n",
    "    R = x['vote_average']\n",
    "    return (v/(v+m) * R) + (m/(m+v) * C)"
   ]
  },
  {
   "cell_type": "code",
   "execution_count": 234,
   "metadata": {
    "pycharm": {
     "name": "#%%\n"
    }
   },
   "outputs": [],
   "source": [
    "top_movies['wr'] = top_movies.apply(weighted_rating, axis=1)"
   ]
  },
  {
   "cell_type": "code",
   "execution_count": 235,
   "metadata": {
    "pycharm": {
     "name": "#%%\n"
    }
   },
   "outputs": [],
   "source": [
    "top_movies = top_movies.sort_values('wr', ascending=False).head(250)"
   ]
  },
  {
   "cell_type": "markdown",
   "metadata": {},
   "source": [
    "##### Top Movies"
   ]
  },
  {
   "cell_type": "code",
   "execution_count": 236,
   "metadata": {
    "pycharm": {
     "name": "#%%\n"
    }
   },
   "outputs": [
    {
     "data": {
      "text/plain": "                                                   title  year  vote_count  \\\n15480                                          Inception  2010       14075   \n12481                                    The Dark Knight  2008       12269   \n22879                                       Interstellar  2014       11187   \n2843                                          Fight Club  1999        9678   \n4863   The Lord of the Rings: The Fellowship of the Ring  2001        8892   \n292                                         Pulp Fiction  1994        8670   \n314                             The Shawshank Redemption  1994        8358   \n7000       The Lord of the Rings: The Return of the King  2003        8226   \n351                                         Forrest Gump  1994        8147   \n5814               The Lord of the Rings: The Two Towers  2002        7641   \n256                                            Star Wars  1977        6778   \n1225                                  Back to the Future  1985        6239   \n834                                        The Godfather  1972        6024   \n1154                             The Empire Strikes Back  1980        5998   \n46                                                 Se7en  1995        5915   \n\n       vote_average popularity  \\\n15480             8    29.1081   \n12481             8    123.167   \n22879             8    32.2135   \n2843              8    63.8696   \n4863              8    32.0707   \n292               8     140.95   \n314               8    51.6454   \n7000              8    29.3244   \n351               8    48.3072   \n5814              8    29.4235   \n256               8    42.1497   \n1225              8    25.7785   \n834               8    41.1093   \n1154              8     19.471   \n46                8    18.4574   \n\n                                                  genres        wr  \n15480  [Action, Thriller, Science Fiction, Mystery, A...  7.917588  \n12481                   [Drama, Action, Crime, Thriller]  7.905871  \n22879                [Adventure, Drama, Science Fiction]  7.897107  \n2843                                             [Drama]  7.881753  \n4863                        [Adventure, Fantasy, Action]  7.871787  \n292                                    [Thriller, Crime]  7.868660  \n314                                       [Drama, Crime]  7.864000  \n7000                        [Adventure, Fantasy, Action]  7.861927  \n351                             [Comedy, Drama, Romance]  7.860656  \n5814                        [Adventure, Fantasy, Action]  7.851924  \n256                 [Adventure, Action, Science Fiction]  7.834205  \n1225        [Adventure, Comedy, Science Fiction, Family]  7.820813  \n834                                       [Drama, Crime]  7.814847  \n1154                [Adventure, Action, Science Fiction]  7.814099  \n46                            [Crime, Mystery, Thriller]  7.811669  ",
      "text/html": "<div>\n<style scoped>\n    .dataframe tbody tr th:only-of-type {\n        vertical-align: middle;\n    }\n\n    .dataframe tbody tr th {\n        vertical-align: top;\n    }\n\n    .dataframe thead th {\n        text-align: right;\n    }\n</style>\n<table border=\"1\" class=\"dataframe\">\n  <thead>\n    <tr style=\"text-align: right;\">\n      <th></th>\n      <th>title</th>\n      <th>year</th>\n      <th>vote_count</th>\n      <th>vote_average</th>\n      <th>popularity</th>\n      <th>genres</th>\n      <th>wr</th>\n    </tr>\n  </thead>\n  <tbody>\n    <tr>\n      <th>15480</th>\n      <td>Inception</td>\n      <td>2010</td>\n      <td>14075</td>\n      <td>8</td>\n      <td>29.1081</td>\n      <td>[Action, Thriller, Science Fiction, Mystery, A...</td>\n      <td>7.917588</td>\n    </tr>\n    <tr>\n      <th>12481</th>\n      <td>The Dark Knight</td>\n      <td>2008</td>\n      <td>12269</td>\n      <td>8</td>\n      <td>123.167</td>\n      <td>[Drama, Action, Crime, Thriller]</td>\n      <td>7.905871</td>\n    </tr>\n    <tr>\n      <th>22879</th>\n      <td>Interstellar</td>\n      <td>2014</td>\n      <td>11187</td>\n      <td>8</td>\n      <td>32.2135</td>\n      <td>[Adventure, Drama, Science Fiction]</td>\n      <td>7.897107</td>\n    </tr>\n    <tr>\n      <th>2843</th>\n      <td>Fight Club</td>\n      <td>1999</td>\n      <td>9678</td>\n      <td>8</td>\n      <td>63.8696</td>\n      <td>[Drama]</td>\n      <td>7.881753</td>\n    </tr>\n    <tr>\n      <th>4863</th>\n      <td>The Lord of the Rings: The Fellowship of the Ring</td>\n      <td>2001</td>\n      <td>8892</td>\n      <td>8</td>\n      <td>32.0707</td>\n      <td>[Adventure, Fantasy, Action]</td>\n      <td>7.871787</td>\n    </tr>\n    <tr>\n      <th>292</th>\n      <td>Pulp Fiction</td>\n      <td>1994</td>\n      <td>8670</td>\n      <td>8</td>\n      <td>140.95</td>\n      <td>[Thriller, Crime]</td>\n      <td>7.868660</td>\n    </tr>\n    <tr>\n      <th>314</th>\n      <td>The Shawshank Redemption</td>\n      <td>1994</td>\n      <td>8358</td>\n      <td>8</td>\n      <td>51.6454</td>\n      <td>[Drama, Crime]</td>\n      <td>7.864000</td>\n    </tr>\n    <tr>\n      <th>7000</th>\n      <td>The Lord of the Rings: The Return of the King</td>\n      <td>2003</td>\n      <td>8226</td>\n      <td>8</td>\n      <td>29.3244</td>\n      <td>[Adventure, Fantasy, Action]</td>\n      <td>7.861927</td>\n    </tr>\n    <tr>\n      <th>351</th>\n      <td>Forrest Gump</td>\n      <td>1994</td>\n      <td>8147</td>\n      <td>8</td>\n      <td>48.3072</td>\n      <td>[Comedy, Drama, Romance]</td>\n      <td>7.860656</td>\n    </tr>\n    <tr>\n      <th>5814</th>\n      <td>The Lord of the Rings: The Two Towers</td>\n      <td>2002</td>\n      <td>7641</td>\n      <td>8</td>\n      <td>29.4235</td>\n      <td>[Adventure, Fantasy, Action]</td>\n      <td>7.851924</td>\n    </tr>\n    <tr>\n      <th>256</th>\n      <td>Star Wars</td>\n      <td>1977</td>\n      <td>6778</td>\n      <td>8</td>\n      <td>42.1497</td>\n      <td>[Adventure, Action, Science Fiction]</td>\n      <td>7.834205</td>\n    </tr>\n    <tr>\n      <th>1225</th>\n      <td>Back to the Future</td>\n      <td>1985</td>\n      <td>6239</td>\n      <td>8</td>\n      <td>25.7785</td>\n      <td>[Adventure, Comedy, Science Fiction, Family]</td>\n      <td>7.820813</td>\n    </tr>\n    <tr>\n      <th>834</th>\n      <td>The Godfather</td>\n      <td>1972</td>\n      <td>6024</td>\n      <td>8</td>\n      <td>41.1093</td>\n      <td>[Drama, Crime]</td>\n      <td>7.814847</td>\n    </tr>\n    <tr>\n      <th>1154</th>\n      <td>The Empire Strikes Back</td>\n      <td>1980</td>\n      <td>5998</td>\n      <td>8</td>\n      <td>19.471</td>\n      <td>[Adventure, Action, Science Fiction]</td>\n      <td>7.814099</td>\n    </tr>\n    <tr>\n      <th>46</th>\n      <td>Se7en</td>\n      <td>1995</td>\n      <td>5915</td>\n      <td>8</td>\n      <td>18.4574</td>\n      <td>[Crime, Mystery, Thriller]</td>\n      <td>7.811669</td>\n    </tr>\n  </tbody>\n</table>\n</div>"
     },
     "execution_count": 236,
     "metadata": {},
     "output_type": "execute_result"
    }
   ],
   "source": [
    "top_movies.head(15)"
   ]
  },
  {
   "cell_type": "code",
   "execution_count": 237,
   "metadata": {
    "pycharm": {
     "name": "#%%\n"
    }
   },
   "outputs": [],
   "source": [
    "s = movies_metadata.apply(lambda x: pd.Series(x['genres']),axis=1).stack().reset_index(level=1, drop=True)\n",
    "s.name = 'genre'\n",
    "gen_md = movies_metadata.drop('genres', axis=1).join(s)"
   ]
  },
  {
   "cell_type": "code",
   "execution_count": 238,
   "metadata": {
    "pycharm": {
     "name": "#%%\n"
    }
   },
   "outputs": [],
   "source": [
    "def top_movies_by(genre, percentile=0.85):\n",
    "    df = gen_md[gen_md['genre'] == genre]\n",
    "    vote_counts = df[df['vote_count'].notnull()]['vote_count'].astype('int')\n",
    "    vote_averages = df[df['vote_average'].notnull()]['vote_average'].astype('int')\n",
    "    C = vote_averages.mean()\n",
    "    m = vote_counts.quantile(percentile)\n",
    "\n",
    "    top_movies = df[(df['vote_count'] >= m) & (df['vote_count'].notnull()) & (df['vote_average'].notnull())][['title', 'year', 'vote_count', 'vote_average', 'popularity']]\n",
    "    top_movies['vote_count'] = top_movies['vote_count'].astype('int')\n",
    "    top_movies['vote_average'] = top_movies['vote_average'].astype('int')\n",
    "\n",
    "    top_movies['wr'] = top_movies.apply(lambda x: (x['vote_count']/(x['vote_count']+m) * x['vote_average']) + (m/(m+x['vote_count']) * C), axis=1)\n",
    "    top_movies = top_movies.sort_values('wr', ascending=False).head(250)\n",
    "\n",
    "    return top_movies"
   ]
  },
  {
   "cell_type": "markdown",
   "metadata": {},
   "source": [
    "###### Top Movies based on genre"
   ]
  },
  {
   "cell_type": "code",
   "execution_count": 239,
   "metadata": {
    "pycharm": {
     "name": "#%%\n"
    }
   },
   "outputs": [
    {
     "data": {
      "text/plain": "                             title  year  vote_count  vote_average popularity  \\\n10309  Dilwale Dulhania Le Jayenge  1995         661             9     34.457   \n351                   Forrest Gump  1994        8147             8    48.3072   \n876                        Vertigo  1958        1162             8    18.2082   \n40251                   Your Name.  2016        1030             8  34.461252   \n883               Some Like It Hot  1959         835             8    11.8451   \n1132               Cinema Paradiso  1988         834             8     14.177   \n19901                     Paperman  2012         734             8    7.19863   \n37863                  Sing Street  2016         669             8  10.672862   \n882                  The Apartment  1960         498             8    11.9943   \n38718               The Handmaiden  2016         453             8  16.727405   \n3189                   City Lights  1931         444             8    10.8915   \n24886             The Way He Looks  2014         262             8    5.71127   \n45437               In a Heartbeat  2017         146             8   20.82178   \n1639                       Titanic  1997        7770             7    26.8891   \n19731      Silver Linings Playbook  2012        4840             7    14.4881   \n\n             wr  \n10309  8.565285  \n351    7.971357  \n876    7.811667  \n40251  7.789489  \n883    7.745154  \n1132   7.744878  \n19901  7.713951  \n37863  7.689483  \n882    7.599317  \n38718  7.566166  \n3189   7.558867  \n24886  7.331363  \n45437  7.003959  \n1639   6.981546  \n19731  6.970581  ",
      "text/html": "<div>\n<style scoped>\n    .dataframe tbody tr th:only-of-type {\n        vertical-align: middle;\n    }\n\n    .dataframe tbody tr th {\n        vertical-align: top;\n    }\n\n    .dataframe thead th {\n        text-align: right;\n    }\n</style>\n<table border=\"1\" class=\"dataframe\">\n  <thead>\n    <tr style=\"text-align: right;\">\n      <th></th>\n      <th>title</th>\n      <th>year</th>\n      <th>vote_count</th>\n      <th>vote_average</th>\n      <th>popularity</th>\n      <th>wr</th>\n    </tr>\n  </thead>\n  <tbody>\n    <tr>\n      <th>10309</th>\n      <td>Dilwale Dulhania Le Jayenge</td>\n      <td>1995</td>\n      <td>661</td>\n      <td>9</td>\n      <td>34.457</td>\n      <td>8.565285</td>\n    </tr>\n    <tr>\n      <th>351</th>\n      <td>Forrest Gump</td>\n      <td>1994</td>\n      <td>8147</td>\n      <td>8</td>\n      <td>48.3072</td>\n      <td>7.971357</td>\n    </tr>\n    <tr>\n      <th>876</th>\n      <td>Vertigo</td>\n      <td>1958</td>\n      <td>1162</td>\n      <td>8</td>\n      <td>18.2082</td>\n      <td>7.811667</td>\n    </tr>\n    <tr>\n      <th>40251</th>\n      <td>Your Name.</td>\n      <td>2016</td>\n      <td>1030</td>\n      <td>8</td>\n      <td>34.461252</td>\n      <td>7.789489</td>\n    </tr>\n    <tr>\n      <th>883</th>\n      <td>Some Like It Hot</td>\n      <td>1959</td>\n      <td>835</td>\n      <td>8</td>\n      <td>11.8451</td>\n      <td>7.745154</td>\n    </tr>\n    <tr>\n      <th>1132</th>\n      <td>Cinema Paradiso</td>\n      <td>1988</td>\n      <td>834</td>\n      <td>8</td>\n      <td>14.177</td>\n      <td>7.744878</td>\n    </tr>\n    <tr>\n      <th>19901</th>\n      <td>Paperman</td>\n      <td>2012</td>\n      <td>734</td>\n      <td>8</td>\n      <td>7.19863</td>\n      <td>7.713951</td>\n    </tr>\n    <tr>\n      <th>37863</th>\n      <td>Sing Street</td>\n      <td>2016</td>\n      <td>669</td>\n      <td>8</td>\n      <td>10.672862</td>\n      <td>7.689483</td>\n    </tr>\n    <tr>\n      <th>882</th>\n      <td>The Apartment</td>\n      <td>1960</td>\n      <td>498</td>\n      <td>8</td>\n      <td>11.9943</td>\n      <td>7.599317</td>\n    </tr>\n    <tr>\n      <th>38718</th>\n      <td>The Handmaiden</td>\n      <td>2016</td>\n      <td>453</td>\n      <td>8</td>\n      <td>16.727405</td>\n      <td>7.566166</td>\n    </tr>\n    <tr>\n      <th>3189</th>\n      <td>City Lights</td>\n      <td>1931</td>\n      <td>444</td>\n      <td>8</td>\n      <td>10.8915</td>\n      <td>7.558867</td>\n    </tr>\n    <tr>\n      <th>24886</th>\n      <td>The Way He Looks</td>\n      <td>2014</td>\n      <td>262</td>\n      <td>8</td>\n      <td>5.71127</td>\n      <td>7.331363</td>\n    </tr>\n    <tr>\n      <th>45437</th>\n      <td>In a Heartbeat</td>\n      <td>2017</td>\n      <td>146</td>\n      <td>8</td>\n      <td>20.82178</td>\n      <td>7.003959</td>\n    </tr>\n    <tr>\n      <th>1639</th>\n      <td>Titanic</td>\n      <td>1997</td>\n      <td>7770</td>\n      <td>7</td>\n      <td>26.8891</td>\n      <td>6.981546</td>\n    </tr>\n    <tr>\n      <th>19731</th>\n      <td>Silver Linings Playbook</td>\n      <td>2012</td>\n      <td>4840</td>\n      <td>7</td>\n      <td>14.4881</td>\n      <td>6.970581</td>\n    </tr>\n  </tbody>\n</table>\n</div>"
     },
     "execution_count": 239,
     "metadata": {},
     "output_type": "execute_result"
    }
   ],
   "source": [
    "top_movies_by('Drama').head(15)"
   ]
  },
  {
   "cell_type": "markdown",
   "metadata": {},
   "source": [
    "### Content Based Recommendation"
   ]
  },
  {
   "cell_type": "code",
   "execution_count": 240,
   "metadata": {
    "pycharm": {
     "name": "#%%\n"
    }
   },
   "outputs": [],
   "source": [
    "links_small = pd.read_csv('data/links_small.csv')\n",
    "links_small = links_small[links_small['tmdbId'].notnull()]['tmdbId'].astype('int')"
   ]
  },
  {
   "cell_type": "code",
   "execution_count": 241,
   "metadata": {
    "pycharm": {
     "name": "#%%\n"
    }
   },
   "outputs": [],
   "source": [
    "movies_metadata = movies_metadata.drop([19730, 29503, 35587])"
   ]
  },
  {
   "cell_type": "code",
   "execution_count": 242,
   "metadata": {
    "pycharm": {
     "name": "#%%\n"
    }
   },
   "outputs": [],
   "source": [
    "movies_metadata['id'] = movies_metadata['id'].astype('int')"
   ]
  },
  {
   "cell_type": "code",
   "execution_count": 243,
   "metadata": {
    "pycharm": {
     "name": "#%%\n"
    }
   },
   "outputs": [
    {
     "data": {
      "text/plain": "(9099, 25)"
     },
     "execution_count": 243,
     "metadata": {},
     "output_type": "execute_result"
    }
   ],
   "source": [
    "smd = movies_metadata[movies_metadata['id'].isin(links_small)]\n",
    "smd.shape"
   ]
  },
  {
   "cell_type": "markdown",
   "metadata": {},
   "source": [
    "#### Movie Description Based Recommender"
   ]
  },
  {
   "cell_type": "code",
   "execution_count": 244,
   "metadata": {
    "pycharm": {
     "name": "#%%\n"
    }
   },
   "outputs": [],
   "source": [
    "smd['tagline'] = smd['tagline'].fillna('')\n",
    "smd['description'] = smd['overview'] + smd['tagline']\n",
    "smd['description'] = smd['description'].fillna('')"
   ]
  },
  {
   "cell_type": "code",
   "execution_count": 245,
   "metadata": {
    "pycharm": {
     "name": "#%%\n"
    }
   },
   "outputs": [
    {
     "data": {
      "text/plain": "(9099, 268124)"
     },
     "execution_count": 245,
     "metadata": {},
     "output_type": "execute_result"
    }
   ],
   "source": [
    "tf = TfidfVectorizer(analyzer='word',ngram_range=(1, 2),min_df=0, stop_words='english')\n",
    "tfidf_matrix = tf.fit_transform(smd['description'])\n",
    "tfidf_matrix.shape"
   ]
  },
  {
   "cell_type": "markdown",
   "metadata": {},
   "source": [
    "###### Cosine Similarity"
   ]
  },
  {
   "cell_type": "code",
   "execution_count": 246,
   "metadata": {
    "pycharm": {
     "name": "#%%\n"
    }
   },
   "outputs": [
    {
     "data": {
      "text/plain": "array([1.        , 0.00680476, 0.        , ..., 0.        , 0.00344913,\n       0.        ])"
     },
     "execution_count": 246,
     "metadata": {},
     "output_type": "execute_result"
    }
   ],
   "source": [
    "cosine_sim = linear_kernel(tfidf_matrix, tfidf_matrix)\n",
    "cosine_sim[0]"
   ]
  },
  {
   "cell_type": "code",
   "execution_count": 247,
   "metadata": {
    "pycharm": {
     "name": "#%%\n"
    }
   },
   "outputs": [],
   "source": [
    "smd = smd.reset_index()\n",
    "titles = smd['title']\n",
    "indices = pd.Series(smd.index, index=smd['title'])"
   ]
  },
  {
   "cell_type": "code",
   "execution_count": 248,
   "metadata": {
    "pycharm": {
     "name": "#%%\n"
    }
   },
   "outputs": [],
   "source": [
    "def get_recommendations(title):\n",
    "    idx = indices[title]\n",
    "    sim_scores = list(enumerate(cosine_sim[idx]))\n",
    "    sim_scores = sorted(sim_scores, key=lambda x: x[1], reverse=True)\n",
    "    sim_scores = sim_scores[1:31]\n",
    "    movie_indices = [i[0] for i in sim_scores]\n",
    "    return titles.iloc[movie_indices]"
   ]
  },
  {
   "cell_type": "code",
   "execution_count": 249,
   "metadata": {
    "pycharm": {
     "name": "#%%\n"
    }
   },
   "outputs": [
    {
     "data": {
      "text/plain": "794                        Bliss\n2028                   Avalanche\n5590                Stage Beauty\n3488       The Barefoot Contessa\n417     The House of the Spirits\n7086             Shrek the Halls\n5619              Callas Forever\n1663                  Swing Kids\n7803               Green Lantern\n1338                   Anastasia\nName: title, dtype: object"
     },
     "execution_count": 249,
     "metadata": {},
     "output_type": "execute_result"
    }
   ],
   "source": [
    "get_recommendations('The Impossible').head(10)"
   ]
  },
  {
   "cell_type": "code",
   "execution_count": 250,
   "metadata": {
    "pycharm": {
     "name": "#%%\n"
    }
   },
   "outputs": [
    {
     "data": {
      "text/plain": "8124              The Paperboy\n3882            Monster's Ball\n4495    The Life of David Gale\n8166                   Capital\n4317            Half Past Dead\n7068                The Island\n8847    Paul Blart: Mall Cop 2\n34            Dead Man Walking\n4411                   Chicago\n5290                  The Trip\nName: title, dtype: object"
     },
     "execution_count": 250,
     "metadata": {},
     "output_type": "execute_result"
    }
   ],
   "source": [
    "get_recommendations('The Green Mile').head(10)"
   ]
  },
  {
   "cell_type": "markdown",
   "metadata": {},
   "source": [
    "##### Metadata Based Recommendation\n"
   ]
  },
  {
   "cell_type": "code",
   "execution_count": 251,
   "metadata": {
    "pycharm": {
     "name": "#%%\n"
    }
   },
   "outputs": [
    {
     "data": {
      "text/plain": "(45463, 25)"
     },
     "execution_count": 251,
     "metadata": {},
     "output_type": "execute_result"
    }
   ],
   "source": [
    "keywords['id'] = keywords['id'].astype('int')\n",
    "credits['id'] = credits['id'].astype('int')\n",
    "movies_metadata['id'] = movies_metadata['id'].astype('int')\n",
    "movies_metadata.shape"
   ]
  },
  {
   "cell_type": "code",
   "execution_count": 252,
   "metadata": {
    "pycharm": {
     "name": "#%%\n"
    }
   },
   "outputs": [],
   "source": [
    "movies_metadata = movies_metadata.merge(credits, on='id')\n",
    "movies_metadata = movies_metadata.merge(keywords, on='id')"
   ]
  },
  {
   "cell_type": "code",
   "execution_count": 253,
   "metadata": {
    "pycharm": {
     "name": "#%%\n"
    }
   },
   "outputs": [
    {
     "data": {
      "text/plain": "(9219, 28)"
     },
     "execution_count": 253,
     "metadata": {},
     "output_type": "execute_result"
    }
   ],
   "source": [
    "smd = movies_metadata[movies_metadata['id'].isin(links_small)]\n",
    "smd.shape"
   ]
  },
  {
   "cell_type": "markdown",
   "metadata": {},
   "source": [
    "###### Get info about movie"
   ]
  },
  {
   "cell_type": "code",
   "execution_count": 254,
   "metadata": {
    "pycharm": {
     "name": "#%%\n"
    }
   },
   "outputs": [],
   "source": [
    "smd['cast'] = smd['cast'].apply(literal_eval)\n",
    "smd['crew'] = smd['crew'].apply(literal_eval)\n",
    "smd['keywords'] = smd['keywords'].apply(literal_eval)\n",
    "smd['cast_size'] = smd['cast'].apply(lambda x: len(x))\n",
    "smd['crew_size'] = smd['crew'].apply(lambda x: len(x))"
   ]
  },
  {
   "cell_type": "code",
   "execution_count": 255,
   "metadata": {
    "pycharm": {
     "name": "#%%\n"
    }
   },
   "outputs": [],
   "source": [
    "def get_director(x):\n",
    "    for i in x:\n",
    "        if i['job'] == 'Director':\n",
    "            return i['name']\n",
    "    return np.nan"
   ]
  },
  {
   "cell_type": "code",
   "execution_count": 256,
   "metadata": {
    "pycharm": {
     "name": "#%%\n"
    }
   },
   "outputs": [],
   "source": [
    "smd['director'] = smd['crew'].apply(get_director)\n",
    "\n",
    "smd['cast'] = smd['cast'].apply(lambda x: [i['name'] for i in x] if isinstance(x, list) else [])\n",
    "smd['cast'] = smd['cast'].apply(lambda x: x[:3] if len(x) >=3 else x)\n",
    "\n",
    "smd['keywords'] = smd['keywords'].apply(lambda x: [i['name'] for i in x] if isinstance(x, list) else [])\n",
    "\n",
    "smd['cast'] = smd['cast'].apply(lambda x: [str.lower(i.replace(\" \", \"\")) for i in x])\n",
    "\n",
    "smd['director'] = smd['director'].astype('str').apply(lambda x: str.lower(x.replace(\" \", \"\")))\n",
    "smd['director'] = smd['director'].apply(lambda x: [x,x, x])"
   ]
  },
  {
   "cell_type": "markdown",
   "metadata": {},
   "source": [
    "###### Keywords"
   ]
  },
  {
   "cell_type": "code",
   "execution_count": 257,
   "metadata": {
    "pycharm": {
     "name": "#%%\n"
    }
   },
   "outputs": [],
   "source": [
    "s = smd.apply(lambda x: pd.Series(x['keywords']),axis=1).stack().reset_index(level=1, drop=True)\n",
    "s.name = 'keyword'"
   ]
  },
  {
   "cell_type": "code",
   "execution_count": 258,
   "metadata": {
    "pycharm": {
     "name": "#%%\n"
    }
   },
   "outputs": [
    {
     "data": {
      "text/plain": "independent film        610\nwoman director          550\nmurder                  399\nduringcreditsstinger    327\nbased on novel          318\nName: keyword, dtype: int64"
     },
     "execution_count": 258,
     "metadata": {},
     "output_type": "execute_result"
    }
   ],
   "source": [
    "s = s.value_counts()\n",
    "s[:5]"
   ]
  },
  {
   "cell_type": "code",
   "execution_count": 259,
   "metadata": {
    "pycharm": {
     "name": "#%%\n"
    }
   },
   "outputs": [
    {
     "data": {
      "text/plain": "'dog'"
     },
     "execution_count": 259,
     "metadata": {},
     "output_type": "execute_result"
    }
   ],
   "source": [
    "s = s[s > 1]\n",
    "stemmer = SnowballStemmer('english')\n",
    "stemmer.stem('dogs')"
   ]
  },
  {
   "cell_type": "code",
   "execution_count": 260,
   "metadata": {
    "pycharm": {
     "name": "#%%\n"
    }
   },
   "outputs": [],
   "source": [
    "def filter_keywords(x):\n",
    "    words = []\n",
    "    for i in x:\n",
    "        if i in s:\n",
    "            words.append(i)\n",
    "    return words"
   ]
  },
  {
   "cell_type": "code",
   "execution_count": 261,
   "metadata": {
    "pycharm": {
     "name": "#%%\n"
    }
   },
   "outputs": [],
   "source": [
    "smd['keywords'] = smd['keywords'].apply(filter_keywords)\n",
    "smd['keywords'] = smd['keywords'].apply(lambda x: [stemmer.stem(i) for i in x])\n",
    "smd['keywords'] = smd['keywords'].apply(lambda x: [str.lower(i.replace(\" \", \"\")) for i in x])\n",
    "\n",
    "smd['soup'] = smd['keywords'] + smd['cast'] + smd['director'] + smd['genres']\n",
    "smd['soup'] = smd['soup'].apply(lambda x: ' '.join(x))"
   ]
  },
  {
   "cell_type": "code",
   "execution_count": 262,
   "metadata": {
    "pycharm": {
     "name": "#%%\n"
    }
   },
   "outputs": [],
   "source": [
    "count = CountVectorizer(analyzer='word',ngram_range=(1, 2),min_df=0, stop_words='english')\n",
    "count_matrix = count.fit_transform(smd['soup'])\n",
    "\n",
    "cosine_sim = cosine_similarity(count_matrix, count_matrix)"
   ]
  },
  {
   "cell_type": "code",
   "execution_count": 263,
   "metadata": {
    "pycharm": {
     "name": "#%%\n"
    }
   },
   "outputs": [],
   "source": [
    "smd = smd.reset_index()\n",
    "titles = smd['title']\n",
    "indices = pd.Series(smd.index, index=smd['title'])"
   ]
  },
  {
   "cell_type": "markdown",
   "metadata": {},
   "source": [
    "##### All previous recommendations together"
   ]
  },
  {
   "cell_type": "code",
   "execution_count": 264,
   "metadata": {
    "pycharm": {
     "name": "#%%\n"
    }
   },
   "outputs": [],
   "source": [
    "def content_based_recommendations(title):\n",
    "    idx = indices[title]\n",
    "    sim_scores = list(enumerate(cosine_sim[idx]))\n",
    "    sim_scores = sorted(sim_scores, key=lambda x: x[1], reverse=True)\n",
    "    sim_scores = sim_scores[1:26]\n",
    "    movie_indices = [i[0] for i in sim_scores]\n",
    "\n",
    "    movies = smd.iloc[movie_indices][['title', 'vote_count', 'vote_average', 'year']]\n",
    "    vote_counts = movies[movies['vote_count'].notnull()]['vote_count'].astype('int')\n",
    "    vote_averages = movies[movies['vote_average'].notnull()]['vote_average'].astype('int')\n",
    "    C = vote_averages.mean()\n",
    "    m = vote_counts.quantile(0.60)\n",
    "    top_movies = movies[(movies['vote_count'] >= m) & (movies['vote_count'].notnull()) & (movies['vote_average'].notnull())]\n",
    "    top_movies['vote_count'] = top_movies['vote_count'].astype('int')\n",
    "    top_movies['vote_average'] = top_movies['vote_average'].astype('int')\n",
    "    top_movies['wr'] = top_movies.apply(weighted_rating, axis=1)\n",
    "    top_movies = top_movies.sort_values('wr', ascending=False).head(10)\n",
    "    return top_movies"
   ]
  },
  {
   "cell_type": "code",
   "execution_count": 265,
   "metadata": {
    "pycharm": {
     "name": "#%%\n"
    }
   },
   "outputs": [
    {
     "data": {
      "text/plain": "                               title  vote_count  vote_average  year        wr\n3812                Mulholland Drive        1517             7  2001  6.609577\n6912                   The Orphanage         652             7  2007  6.298605\n7981                    Take Shelter         479             7  2011  6.165701\n4605                     Phone Booth        1087             6  2002  5.784540\n6742                       Disturbia        1038             6  2007  5.777368\n1570                    Child's Play         605             6  1988  5.684586\n7994                     Margin Call         531             6  2011  5.660399\n7226               The International         373             6  2009  5.593910\n6329                            Stay         346             6  2005  5.579853\n8901  The Stanford Prison Experiment         254             6  2015  5.523670",
      "text/html": "<div>\n<style scoped>\n    .dataframe tbody tr th:only-of-type {\n        vertical-align: middle;\n    }\n\n    .dataframe tbody tr th {\n        vertical-align: top;\n    }\n\n    .dataframe thead th {\n        text-align: right;\n    }\n</style>\n<table border=\"1\" class=\"dataframe\">\n  <thead>\n    <tr style=\"text-align: right;\">\n      <th></th>\n      <th>title</th>\n      <th>vote_count</th>\n      <th>vote_average</th>\n      <th>year</th>\n      <th>wr</th>\n    </tr>\n  </thead>\n  <tbody>\n    <tr>\n      <th>3812</th>\n      <td>Mulholland Drive</td>\n      <td>1517</td>\n      <td>7</td>\n      <td>2001</td>\n      <td>6.609577</td>\n    </tr>\n    <tr>\n      <th>6912</th>\n      <td>The Orphanage</td>\n      <td>652</td>\n      <td>7</td>\n      <td>2007</td>\n      <td>6.298605</td>\n    </tr>\n    <tr>\n      <th>7981</th>\n      <td>Take Shelter</td>\n      <td>479</td>\n      <td>7</td>\n      <td>2011</td>\n      <td>6.165701</td>\n    </tr>\n    <tr>\n      <th>4605</th>\n      <td>Phone Booth</td>\n      <td>1087</td>\n      <td>6</td>\n      <td>2002</td>\n      <td>5.784540</td>\n    </tr>\n    <tr>\n      <th>6742</th>\n      <td>Disturbia</td>\n      <td>1038</td>\n      <td>6</td>\n      <td>2007</td>\n      <td>5.777368</td>\n    </tr>\n    <tr>\n      <th>1570</th>\n      <td>Child's Play</td>\n      <td>605</td>\n      <td>6</td>\n      <td>1988</td>\n      <td>5.684586</td>\n    </tr>\n    <tr>\n      <th>7994</th>\n      <td>Margin Call</td>\n      <td>531</td>\n      <td>6</td>\n      <td>2011</td>\n      <td>5.660399</td>\n    </tr>\n    <tr>\n      <th>7226</th>\n      <td>The International</td>\n      <td>373</td>\n      <td>6</td>\n      <td>2009</td>\n      <td>5.593910</td>\n    </tr>\n    <tr>\n      <th>6329</th>\n      <td>Stay</td>\n      <td>346</td>\n      <td>6</td>\n      <td>2005</td>\n      <td>5.579853</td>\n    </tr>\n    <tr>\n      <th>8901</th>\n      <td>The Stanford Prison Experiment</td>\n      <td>254</td>\n      <td>6</td>\n      <td>2015</td>\n      <td>5.523670</td>\n    </tr>\n  </tbody>\n</table>\n</div>"
     },
     "execution_count": 265,
     "metadata": {},
     "output_type": "execute_result"
    }
   ],
   "source": [
    "content_based_recommendations('The Impossible')"
   ]
  },
  {
   "cell_type": "code",
   "execution_count": 266,
   "outputs": [
    {
     "data": {
      "text/plain": "                         title  vote_count  vote_average  year        wr\n284   The Shawshank Redemption        8358             8  1994  7.864000\n4458       Catch Me If You Can        3917             7  2002  6.824933\n2839           American Psycho        2128             7  2000  6.702687\n6881         American Gangster        1527             7  2007  6.611568\n8244               Cloud Atlas        3031             6  2012  5.905421\n6900                  The Mist        1438             6  2007  5.824939\n8196                   Lawless        1055             6  2012  5.779909\n2258                       Big        1022             6  1988  5.774921\n7557               Dorian Gray         588             5  2009  5.103997\n8355       Beautiful Creatures        1017             5  2013  5.073250",
      "text/html": "<div>\n<style scoped>\n    .dataframe tbody tr th:only-of-type {\n        vertical-align: middle;\n    }\n\n    .dataframe tbody tr th {\n        vertical-align: top;\n    }\n\n    .dataframe thead th {\n        text-align: right;\n    }\n</style>\n<table border=\"1\" class=\"dataframe\">\n  <thead>\n    <tr style=\"text-align: right;\">\n      <th></th>\n      <th>title</th>\n      <th>vote_count</th>\n      <th>vote_average</th>\n      <th>year</th>\n      <th>wr</th>\n    </tr>\n  </thead>\n  <tbody>\n    <tr>\n      <th>284</th>\n      <td>The Shawshank Redemption</td>\n      <td>8358</td>\n      <td>8</td>\n      <td>1994</td>\n      <td>7.864000</td>\n    </tr>\n    <tr>\n      <th>4458</th>\n      <td>Catch Me If You Can</td>\n      <td>3917</td>\n      <td>7</td>\n      <td>2002</td>\n      <td>6.824933</td>\n    </tr>\n    <tr>\n      <th>2839</th>\n      <td>American Psycho</td>\n      <td>2128</td>\n      <td>7</td>\n      <td>2000</td>\n      <td>6.702687</td>\n    </tr>\n    <tr>\n      <th>6881</th>\n      <td>American Gangster</td>\n      <td>1527</td>\n      <td>7</td>\n      <td>2007</td>\n      <td>6.611568</td>\n    </tr>\n    <tr>\n      <th>8244</th>\n      <td>Cloud Atlas</td>\n      <td>3031</td>\n      <td>6</td>\n      <td>2012</td>\n      <td>5.905421</td>\n    </tr>\n    <tr>\n      <th>6900</th>\n      <td>The Mist</td>\n      <td>1438</td>\n      <td>6</td>\n      <td>2007</td>\n      <td>5.824939</td>\n    </tr>\n    <tr>\n      <th>8196</th>\n      <td>Lawless</td>\n      <td>1055</td>\n      <td>6</td>\n      <td>2012</td>\n      <td>5.779909</td>\n    </tr>\n    <tr>\n      <th>2258</th>\n      <td>Big</td>\n      <td>1022</td>\n      <td>6</td>\n      <td>1988</td>\n      <td>5.774921</td>\n    </tr>\n    <tr>\n      <th>7557</th>\n      <td>Dorian Gray</td>\n      <td>588</td>\n      <td>5</td>\n      <td>2009</td>\n      <td>5.103997</td>\n    </tr>\n    <tr>\n      <th>8355</th>\n      <td>Beautiful Creatures</td>\n      <td>1017</td>\n      <td>5</td>\n      <td>2013</td>\n      <td>5.073250</td>\n    </tr>\n  </tbody>\n</table>\n</div>"
     },
     "execution_count": 266,
     "metadata": {},
     "output_type": "execute_result"
    }
   ],
   "source": [
    "content_based_recommendations('The Green Mile')"
   ],
   "metadata": {
    "collapsed": false,
    "pycharm": {
     "name": "#%%\n"
    }
   }
  },
  {
   "cell_type": "markdown",
   "metadata": {},
   "source": [
    "#### Collaborative Filtering"
   ]
  },
  {
   "cell_type": "code",
   "execution_count": 267,
   "metadata": {
    "pycharm": {
     "name": "#%%\n"
    }
   },
   "outputs": [],
   "source": [
    "reader = Reader()\n",
    "data = Dataset.load_from_df(ratings[['userId', 'movieId', 'rating']], reader)"
   ]
  },
  {
   "cell_type": "code",
   "execution_count": 268,
   "metadata": {
    "pycharm": {
     "name": "#%%\n"
    }
   },
   "outputs": [
    {
     "name": "stdout",
     "output_type": "stream",
     "text": [
      "Processing epoch 0\n",
      "Processing epoch 1\n",
      "Processing epoch 2\n",
      "Processing epoch 3\n",
      "Processing epoch 4\n",
      "Processing epoch 5\n",
      "Processing epoch 6\n",
      "Processing epoch 7\n",
      "Processing epoch 8\n",
      "Processing epoch 9\n",
      "Processing epoch 10\n",
      "Processing epoch 11\n",
      "Processing epoch 12\n",
      "Processing epoch 13\n",
      "Processing epoch 14\n",
      "Processing epoch 15\n",
      "Processing epoch 16\n",
      "Processing epoch 17\n",
      "Processing epoch 18\n",
      "Processing epoch 19\n",
      "Processing epoch 20\n",
      "Processing epoch 21\n",
      "Processing epoch 22\n",
      "Processing epoch 23\n",
      "Processing epoch 24\n",
      "Processing epoch 25\n",
      "Processing epoch 26\n",
      "Processing epoch 27\n",
      "Processing epoch 28\n",
      "Processing epoch 29\n",
      "Processing epoch 30\n",
      "Processing epoch 31\n",
      "Processing epoch 32\n",
      "Processing epoch 33\n",
      "Processing epoch 34\n",
      "Processing epoch 35\n",
      "Processing epoch 36\n",
      "Processing epoch 37\n",
      "Processing epoch 38\n",
      "Processing epoch 39\n",
      "Processing epoch 40\n",
      "Processing epoch 41\n",
      "Processing epoch 42\n",
      "Processing epoch 43\n",
      "Processing epoch 44\n",
      "Processing epoch 45\n",
      "Processing epoch 46\n",
      "Processing epoch 47\n",
      "Processing epoch 48\n",
      "Processing epoch 49\n"
     ]
    },
    {
     "data": {
      "text/plain": "<surprise.prediction_algorithms.matrix_factorization.SVD at 0x260a881ae80>"
     },
     "execution_count": 268,
     "metadata": {},
     "output_type": "execute_result"
    }
   ],
   "source": [
    "trainset = data.build_full_trainset()\n",
    "\n",
    "msvd = SVD(n_epochs = 50, lr_all = 0.009, reg_all = 0.09, verbose=True)\n",
    "msvd.fit(trainset)"
   ]
  },
  {
   "cell_type": "markdown",
   "metadata": {
    "pycharm": {
     "name": "#%% md\n"
    }
   },
   "source": [
    "#### Hybrid Recommendation"
   ]
  },
  {
   "cell_type": "code",
   "execution_count": 269,
   "metadata": {
    "pycharm": {
     "name": "#%%\n"
    }
   },
   "outputs": [],
   "source": [
    "def convert_int(x):\n",
    "    try:\n",
    "        return int(x)\n",
    "    except:\n",
    "        return np.nan"
   ]
  },
  {
   "cell_type": "code",
   "execution_count": 270,
   "metadata": {
    "pycharm": {
     "name": "#%%\n"
    }
   },
   "outputs": [],
   "source": [
    "id_map = pd.read_csv('data/links_small.csv')[['movieId', 'tmdbId']]\n",
    "id_map['tmdbId'] = id_map['tmdbId'].apply(convert_int)\n",
    "id_map.columns = ['movieId', 'id']\n",
    "id_map = id_map.merge(smd[['title', 'id']], on='id').set_index('title')\n",
    "\n",
    "indices_map = id_map.set_index('id')"
   ]
  },
  {
   "cell_type": "code",
   "execution_count": 271,
   "metadata": {
    "pycharm": {
     "name": "#%%\n"
    }
   },
   "outputs": [],
   "source": [
    "def hybrid_recommendation(userId, title):\n",
    "    idx = indices[title]\n",
    "    sim_scores = list(enumerate(cosine_sim[int(idx)]))\n",
    "    sim_scores = sorted(sim_scores, key=lambda x: x[1], reverse=True)\n",
    "    sim_scores = sim_scores[1:26]\n",
    "    movie_indices = [i[0] for i in sim_scores]\n",
    "\n",
    "    movies = smd.iloc[movie_indices][['title','overview', 'vote_count', 'vote_average', 'year', 'id']]\n",
    "    movies['est'] = movies['id'].apply(lambda x: msvd.predict(userId, indices_map.loc[x]['movieId']).est)\n",
    "    movies = movies.sort_values('est', ascending=False)\n",
    "    return movies.head(10)"
   ]
  },
  {
   "cell_type": "code",
   "execution_count": 272,
   "metadata": {
    "pycharm": {
     "name": "#%%\n"
    }
   },
   "outputs": [
    {
     "data": {
      "text/plain": "                       title  \\\n6912           The Orphanage   \n1494  Picnic at Hanging Rock   \n6329                    Stay   \n7981            Take Shelter   \n4836              Demonlover   \n55          The Confessional   \n7994             Margin Call   \n6742               Disturbia   \n3812        Mulholland Drive   \n4605             Phone Booth   \n\n                                               overview  vote_count  \\\n6912  A woman brings her family back to her childhoo...       652.0   \n1494  In the early 1900s, Miranda attends a girls bo...       156.0   \n6329  Psychiatrist Sam Foster has a new patient, Hen...       346.0   \n7981  Plagued by a series of apocalyptic visions, a ...       479.0   \n4836  Two corporations compete for illicit 3D manga ...        13.0   \n55    The year is 1952, in Quebec City. Rachel (16),...         2.0   \n7994  A thriller that revolves around the key people...       531.0   \n6742  Kale is a 17-year-old placed under house arres...      1038.0   \n3812  After a car wreck on the winding Mulholland Dr...      1517.0   \n4605  A slick New York publicist who picks up a ring...      1087.0   \n\n      vote_average  year     id       est  \n6912           7.1  2007   6537  4.004145  \n1494           7.1  1975  11020  3.780042  \n6329           6.5  2005   8066  3.772698  \n7981           7.1  2011  64720  3.759151  \n4836           5.7  2002  24488  3.731592  \n55             6.5  1995  99040  3.677680  \n7994           6.7  2011  50839  3.633070  \n6742           6.6  2007   8271  3.607725  \n3812           7.7  2001   1018  3.603472  \n4605           6.7  2002   1817  3.579140  ",
      "text/html": "<div>\n<style scoped>\n    .dataframe tbody tr th:only-of-type {\n        vertical-align: middle;\n    }\n\n    .dataframe tbody tr th {\n        vertical-align: top;\n    }\n\n    .dataframe thead th {\n        text-align: right;\n    }\n</style>\n<table border=\"1\" class=\"dataframe\">\n  <thead>\n    <tr style=\"text-align: right;\">\n      <th></th>\n      <th>title</th>\n      <th>overview</th>\n      <th>vote_count</th>\n      <th>vote_average</th>\n      <th>year</th>\n      <th>id</th>\n      <th>est</th>\n    </tr>\n  </thead>\n  <tbody>\n    <tr>\n      <th>6912</th>\n      <td>The Orphanage</td>\n      <td>A woman brings her family back to her childhoo...</td>\n      <td>652.0</td>\n      <td>7.1</td>\n      <td>2007</td>\n      <td>6537</td>\n      <td>4.004145</td>\n    </tr>\n    <tr>\n      <th>1494</th>\n      <td>Picnic at Hanging Rock</td>\n      <td>In the early 1900s, Miranda attends a girls bo...</td>\n      <td>156.0</td>\n      <td>7.1</td>\n      <td>1975</td>\n      <td>11020</td>\n      <td>3.780042</td>\n    </tr>\n    <tr>\n      <th>6329</th>\n      <td>Stay</td>\n      <td>Psychiatrist Sam Foster has a new patient, Hen...</td>\n      <td>346.0</td>\n      <td>6.5</td>\n      <td>2005</td>\n      <td>8066</td>\n      <td>3.772698</td>\n    </tr>\n    <tr>\n      <th>7981</th>\n      <td>Take Shelter</td>\n      <td>Plagued by a series of apocalyptic visions, a ...</td>\n      <td>479.0</td>\n      <td>7.1</td>\n      <td>2011</td>\n      <td>64720</td>\n      <td>3.759151</td>\n    </tr>\n    <tr>\n      <th>4836</th>\n      <td>Demonlover</td>\n      <td>Two corporations compete for illicit 3D manga ...</td>\n      <td>13.0</td>\n      <td>5.7</td>\n      <td>2002</td>\n      <td>24488</td>\n      <td>3.731592</td>\n    </tr>\n    <tr>\n      <th>55</th>\n      <td>The Confessional</td>\n      <td>The year is 1952, in Quebec City. Rachel (16),...</td>\n      <td>2.0</td>\n      <td>6.5</td>\n      <td>1995</td>\n      <td>99040</td>\n      <td>3.677680</td>\n    </tr>\n    <tr>\n      <th>7994</th>\n      <td>Margin Call</td>\n      <td>A thriller that revolves around the key people...</td>\n      <td>531.0</td>\n      <td>6.7</td>\n      <td>2011</td>\n      <td>50839</td>\n      <td>3.633070</td>\n    </tr>\n    <tr>\n      <th>6742</th>\n      <td>Disturbia</td>\n      <td>Kale is a 17-year-old placed under house arres...</td>\n      <td>1038.0</td>\n      <td>6.6</td>\n      <td>2007</td>\n      <td>8271</td>\n      <td>3.607725</td>\n    </tr>\n    <tr>\n      <th>3812</th>\n      <td>Mulholland Drive</td>\n      <td>After a car wreck on the winding Mulholland Dr...</td>\n      <td>1517.0</td>\n      <td>7.7</td>\n      <td>2001</td>\n      <td>1018</td>\n      <td>3.603472</td>\n    </tr>\n    <tr>\n      <th>4605</th>\n      <td>Phone Booth</td>\n      <td>A slick New York publicist who picks up a ring...</td>\n      <td>1087.0</td>\n      <td>6.7</td>\n      <td>2002</td>\n      <td>1817</td>\n      <td>3.579140</td>\n    </tr>\n  </tbody>\n</table>\n</div>"
     },
     "execution_count": 272,
     "metadata": {},
     "output_type": "execute_result"
    }
   ],
   "source": [
    "hybrid_recommendation(1000, 'The Impossible')"
   ]
  },
  {
   "cell_type": "code",
   "execution_count": 273,
   "metadata": {
    "pycharm": {
     "name": "#%%\n"
    }
   },
   "outputs": [
    {
     "data": {
      "text/plain": "                               title  \\\n4836                      Demonlover   \n3812                Mulholland Drive   \n6329                            Stay   \n1494          Picnic at Hanging Rock   \n6912                   The Orphanage   \n6742                       Disturbia   \n7981                    Take Shelter   \n1570                    Child's Play   \n8901  The Stanford Prison Experiment   \n7943                        Carancho   \n\n                                               overview  vote_count  \\\n4836  Two corporations compete for illicit 3D manga ...        13.0   \n3812  After a car wreck on the winding Mulholland Dr...      1517.0   \n6329  Psychiatrist Sam Foster has a new patient, Hen...       346.0   \n1494  In the early 1900s, Miranda attends a girls bo...       156.0   \n6912  A woman brings her family back to her childhoo...       652.0   \n6742  Kale is a 17-year-old placed under house arres...      1038.0   \n7981  Plagued by a series of apocalyptic visions, a ...       479.0   \n1570  A single mother gives her son a beloved doll f...       605.0   \n8901  This film is based on the actual events that t...       254.0   \n7943  In Argentina over 8,000 people die in traffic ...        36.0   \n\n      vote_average  year      id       est  \n4836           5.7  2002   24488  3.841727  \n3812           7.7  2001    1018  3.840518  \n6329           6.5  2005    8066  3.597858  \n1494           7.1  1975   11020  3.581437  \n6912           7.1  2007    6537  3.576940  \n6742           6.6  2007    8271  3.464589  \n7981           7.1  2011   64720  3.445062  \n1570           6.3  1988   10585  3.440501  \n8901           6.8  2015  308032  3.365069  \n7943           6.5  2010   47261  3.285723  ",
      "text/html": "<div>\n<style scoped>\n    .dataframe tbody tr th:only-of-type {\n        vertical-align: middle;\n    }\n\n    .dataframe tbody tr th {\n        vertical-align: top;\n    }\n\n    .dataframe thead th {\n        text-align: right;\n    }\n</style>\n<table border=\"1\" class=\"dataframe\">\n  <thead>\n    <tr style=\"text-align: right;\">\n      <th></th>\n      <th>title</th>\n      <th>overview</th>\n      <th>vote_count</th>\n      <th>vote_average</th>\n      <th>year</th>\n      <th>id</th>\n      <th>est</th>\n    </tr>\n  </thead>\n  <tbody>\n    <tr>\n      <th>4836</th>\n      <td>Demonlover</td>\n      <td>Two corporations compete for illicit 3D manga ...</td>\n      <td>13.0</td>\n      <td>5.7</td>\n      <td>2002</td>\n      <td>24488</td>\n      <td>3.841727</td>\n    </tr>\n    <tr>\n      <th>3812</th>\n      <td>Mulholland Drive</td>\n      <td>After a car wreck on the winding Mulholland Dr...</td>\n      <td>1517.0</td>\n      <td>7.7</td>\n      <td>2001</td>\n      <td>1018</td>\n      <td>3.840518</td>\n    </tr>\n    <tr>\n      <th>6329</th>\n      <td>Stay</td>\n      <td>Psychiatrist Sam Foster has a new patient, Hen...</td>\n      <td>346.0</td>\n      <td>6.5</td>\n      <td>2005</td>\n      <td>8066</td>\n      <td>3.597858</td>\n    </tr>\n    <tr>\n      <th>1494</th>\n      <td>Picnic at Hanging Rock</td>\n      <td>In the early 1900s, Miranda attends a girls bo...</td>\n      <td>156.0</td>\n      <td>7.1</td>\n      <td>1975</td>\n      <td>11020</td>\n      <td>3.581437</td>\n    </tr>\n    <tr>\n      <th>6912</th>\n      <td>The Orphanage</td>\n      <td>A woman brings her family back to her childhoo...</td>\n      <td>652.0</td>\n      <td>7.1</td>\n      <td>2007</td>\n      <td>6537</td>\n      <td>3.576940</td>\n    </tr>\n    <tr>\n      <th>6742</th>\n      <td>Disturbia</td>\n      <td>Kale is a 17-year-old placed under house arres...</td>\n      <td>1038.0</td>\n      <td>6.6</td>\n      <td>2007</td>\n      <td>8271</td>\n      <td>3.464589</td>\n    </tr>\n    <tr>\n      <th>7981</th>\n      <td>Take Shelter</td>\n      <td>Plagued by a series of apocalyptic visions, a ...</td>\n      <td>479.0</td>\n      <td>7.1</td>\n      <td>2011</td>\n      <td>64720</td>\n      <td>3.445062</td>\n    </tr>\n    <tr>\n      <th>1570</th>\n      <td>Child's Play</td>\n      <td>A single mother gives her son a beloved doll f...</td>\n      <td>605.0</td>\n      <td>6.3</td>\n      <td>1988</td>\n      <td>10585</td>\n      <td>3.440501</td>\n    </tr>\n    <tr>\n      <th>8901</th>\n      <td>The Stanford Prison Experiment</td>\n      <td>This film is based on the actual events that t...</td>\n      <td>254.0</td>\n      <td>6.8</td>\n      <td>2015</td>\n      <td>308032</td>\n      <td>3.365069</td>\n    </tr>\n    <tr>\n      <th>7943</th>\n      <td>Carancho</td>\n      <td>In Argentina over 8,000 people die in traffic ...</td>\n      <td>36.0</td>\n      <td>6.5</td>\n      <td>2010</td>\n      <td>47261</td>\n      <td>3.285723</td>\n    </tr>\n  </tbody>\n</table>\n</div>"
     },
     "execution_count": 273,
     "metadata": {},
     "output_type": "execute_result"
    }
   ],
   "source": [
    "hybrid_recommendation(45, 'The Impossible')"
   ]
  },
  {
   "cell_type": "code",
   "execution_count": 274,
   "metadata": {
    "pycharm": {
     "name": "#%%\n"
    }
   },
   "outputs": [
    {
     "data": {
      "text/plain": "<IPython.core.display.HTML object>"
     },
     "metadata": {},
     "output_type": "display_data"
    }
   ],
   "source": [
    "from IPython.display import display, HTML\n",
    "\n",
    "display(HTML(hybrid_recommendation(45, 'The Green Mile').to_html('temp.html')))\n",
    "# display(HTML(hybrid_recommendation(1000, 'The Green Mile').to_html('temp.html')))"
   ]
  },
  {
   "cell_type": "code",
   "execution_count": 274,
   "metadata": {
    "pycharm": {
     "name": "#%%\n"
    }
   },
   "outputs": [],
   "source": []
  }
 ],
 "metadata": {
  "kernelspec": {
   "display_name": "Python 3",
   "language": "python",
   "name": "python3"
  },
  "language_info": {
   "codemirror_mode": {
    "name": "ipython",
    "version": 3
   },
   "file_extension": ".py",
   "mimetype": "text/x-python",
   "name": "python",
   "nbconvert_exporter": "python",
   "pygments_lexer": "ipython3",
   "version": "3.8.10"
  }
 },
 "nbformat": 4,
 "nbformat_minor": 1
}