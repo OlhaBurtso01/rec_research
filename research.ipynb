{
 "cells": [
  {
   "cell_type": "code",
   "execution_count": 1,
   "outputs": [],
   "source": [
    "from surprise.model_selection import cross_validate\n",
    "from surprise.prediction_algorithms.co_clustering import CoClustering\n",
    "from surprise.prediction_algorithms.matrix_factorization import SVDpp, NMF\n",
    "from surprise.prediction_algorithms.slope_one import SlopeOne\n",
    "%matplotlib inline\n",
    "import pandas as pd\n",
    "from surprise import Reader, Dataset, SVD, BaselineOnly, KNNWithZScore, KNNWithMeans, KNNBasic, KNNBaseline, \\\n",
    "    NormalPredictor\n",
    "from surprise.model_selection import GridSearchCV\n",
    "\n",
    "import warnings; warnings.simplefilter('ignore')"
   ],
   "metadata": {
    "collapsed": false,
    "pycharm": {
     "name": "#%%\n"
    }
   }
  },
  {
   "cell_type": "code",
   "execution_count": 2,
   "outputs": [
    {
     "data": {
      "text/plain": "   userId  movieId  rating   timestamp\n0       1       31     2.5  1260759144\n1       1     1029     3.0  1260759179\n2       1     1061     3.0  1260759182\n3       1     1129     2.0  1260759185\n4       1     1172     4.0  1260759205",
      "text/html": "<div>\n<style scoped>\n    .dataframe tbody tr th:only-of-type {\n        vertical-align: middle;\n    }\n\n    .dataframe tbody tr th {\n        vertical-align: top;\n    }\n\n    .dataframe thead th {\n        text-align: right;\n    }\n</style>\n<table border=\"1\" class=\"dataframe\">\n  <thead>\n    <tr style=\"text-align: right;\">\n      <th></th>\n      <th>userId</th>\n      <th>movieId</th>\n      <th>rating</th>\n      <th>timestamp</th>\n    </tr>\n  </thead>\n  <tbody>\n    <tr>\n      <th>0</th>\n      <td>1</td>\n      <td>31</td>\n      <td>2.5</td>\n      <td>1260759144</td>\n    </tr>\n    <tr>\n      <th>1</th>\n      <td>1</td>\n      <td>1029</td>\n      <td>3.0</td>\n      <td>1260759179</td>\n    </tr>\n    <tr>\n      <th>2</th>\n      <td>1</td>\n      <td>1061</td>\n      <td>3.0</td>\n      <td>1260759182</td>\n    </tr>\n    <tr>\n      <th>3</th>\n      <td>1</td>\n      <td>1129</td>\n      <td>2.0</td>\n      <td>1260759185</td>\n    </tr>\n    <tr>\n      <th>4</th>\n      <td>1</td>\n      <td>1172</td>\n      <td>4.0</td>\n      <td>1260759205</td>\n    </tr>\n  </tbody>\n</table>\n</div>"
     },
     "execution_count": 2,
     "metadata": {},
     "output_type": "execute_result"
    }
   ],
   "source": [
    "ratings = pd.read_csv('data/ratings_small.csv')\n",
    "ratings.head()"
   ],
   "metadata": {
    "collapsed": false,
    "pycharm": {
     "name": "#%%\n"
    }
   }
  },
  {
   "cell_type": "code",
   "execution_count": 3,
   "outputs": [],
   "source": [
    "reader = Reader()\n",
    "data = Dataset.load_from_df(ratings[['userId', 'movieId', 'rating']], reader)\n"
   ],
   "metadata": {
    "collapsed": false,
    "pycharm": {
     "name": "#%%\n"
    }
   }
  },
  {
   "cell_type": "code",
   "execution_count": 4,
   "outputs": [
    {
     "name": "stdout",
     "output_type": "stream",
     "text": [
      "Evaluating RMSE, MAE of algorithm SVD on 5 split(s).\n",
      "\n",
      "                  Fold 1  Fold 2  Fold 3  Fold 4  Fold 5  Mean    Std     \n",
      "RMSE (testset)    0.8979  0.9038  0.9011  0.8898  0.8970  0.8979  0.0047  \n",
      "MAE (testset)     0.6919  0.6974  0.6934  0.6844  0.6916  0.6918  0.0042  \n",
      "Fit time          4.88    6.22    5.43    5.61    4.80    5.39    0.52    \n",
      "Test time         0.12    0.13    0.18    0.20    0.14    0.15    0.03    \n",
      "Evaluating RMSE, MAE of algorithm SVDpp on 5 split(s).\n",
      "\n",
      "                  Fold 1  Fold 2  Fold 3  Fold 4  Fold 5  Mean    Std     \n",
      "RMSE (testset)    0.8916  0.8853  0.8789  0.8957  0.8882  0.8879  0.0057  \n",
      "MAE (testset)     0.6830  0.6798  0.6749  0.6896  0.6826  0.6820  0.0048  \n",
      "Fit time          481.07  472.32  461.86  459.64  488.04  472.58  10.90   \n",
      "Test time         8.58    7.48    7.20    7.86    7.80    7.78    0.47    \n",
      "Evaluating RMSE, MAE of algorithm SlopeOne on 5 split(s).\n",
      "\n",
      "                  Fold 1  Fold 2  Fold 3  Fold 4  Fold 5  Mean    Std     \n",
      "RMSE (testset)    0.9246  0.9326  0.9261  0.9312  0.9229  0.9275  0.0038  \n",
      "MAE (testset)     0.7063  0.7134  0.7106  0.7122  0.7074  0.7100  0.0027  \n",
      "Fit time          4.10    4.21    4.15    4.18    4.11    4.15    0.04    \n",
      "Test time         5.40    5.36    5.28    5.38    5.29    5.34    0.05    \n",
      "Evaluating RMSE, MAE of algorithm NMF on 5 split(s).\n",
      "\n",
      "                  Fold 1  Fold 2  Fold 3  Fold 4  Fold 5  Mean    Std     \n",
      "RMSE (testset)    0.9526  0.9513  0.9367  0.9498  0.9476  0.9476  0.0057  \n",
      "MAE (testset)     0.7320  0.7298  0.7231  0.7307  0.7290  0.7289  0.0031  \n",
      "Fit time          6.32    6.36    7.19    6.79    6.57    6.64    0.32    \n",
      "Test time         0.11    0.20    0.23    0.11    0.20    0.17    0.05    \n",
      "Evaluating RMSE, MAE of algorithm NormalPredictor on 5 split(s).\n",
      "\n",
      "                  Fold 1  Fold 2  Fold 3  Fold 4  Fold 5  Mean    Std     \n",
      "RMSE (testset)    1.4397  1.4331  1.4399  1.4310  1.4362  1.4360  0.0035  \n",
      "MAE (testset)     1.1510  1.1460  1.1492  1.1415  1.1452  1.1466  0.0033  \n",
      "Fit time          0.11    0.14    0.13    0.14    0.14    0.13    0.01    \n",
      "Test time         0.24    0.12    0.23    0.13    0.13    0.17    0.05    \n",
      "Estimating biases using als...\n",
      "Computing the msd similarity matrix...\n",
      "Done computing similarity matrix.\n",
      "Estimating biases using als...\n",
      "Computing the msd similarity matrix...\n",
      "Done computing similarity matrix.\n",
      "Estimating biases using als...\n",
      "Computing the msd similarity matrix...\n",
      "Done computing similarity matrix.\n",
      "Estimating biases using als...\n",
      "Computing the msd similarity matrix...\n",
      "Done computing similarity matrix.\n",
      "Estimating biases using als...\n",
      "Computing the msd similarity matrix...\n",
      "Done computing similarity matrix.\n",
      "Evaluating RMSE, MAE of algorithm KNNBaseline on 5 split(s).\n",
      "\n",
      "                  Fold 1  Fold 2  Fold 3  Fold 4  Fold 5  Mean    Std     \n",
      "RMSE (testset)    0.8950  0.8988  0.8984  0.8992  0.8947  0.8972  0.0019  \n",
      "MAE (testset)     0.6853  0.6865  0.6899  0.6895  0.6858  0.6874  0.0019  \n",
      "Fit time          0.51    0.45    0.46    0.45    0.65    0.50    0.08    \n",
      "Test time         1.88    1.60    1.70    1.80    2.34    1.87    0.26    \n",
      "Computing the msd similarity matrix...\n",
      "Done computing similarity matrix.\n",
      "Computing the msd similarity matrix...\n",
      "Done computing similarity matrix.\n",
      "Computing the msd similarity matrix...\n",
      "Done computing similarity matrix.\n",
      "Computing the msd similarity matrix...\n",
      "Done computing similarity matrix.\n",
      "Computing the msd similarity matrix...\n",
      "Done computing similarity matrix.\n",
      "Evaluating RMSE, MAE of algorithm KNNBasic on 5 split(s).\n",
      "\n",
      "                  Fold 1  Fold 2  Fold 3  Fold 4  Fold 5  Mean    Std     \n",
      "RMSE (testset)    0.9715  0.9744  0.9618  0.9675  0.9695  0.9690  0.0042  \n",
      "MAE (testset)     0.7452  0.7496  0.7382  0.7442  0.7458  0.7446  0.0037  \n",
      "Fit time          0.25    0.30    0.25    0.27    0.26    0.27    0.02    \n",
      "Test time         1.58    1.47    1.63    1.44    1.53    1.53    0.07    \n",
      "Computing the msd similarity matrix...\n",
      "Done computing similarity matrix.\n",
      "Computing the msd similarity matrix...\n",
      "Done computing similarity matrix.\n",
      "Computing the msd similarity matrix...\n",
      "Done computing similarity matrix.\n",
      "Computing the msd similarity matrix...\n",
      "Done computing similarity matrix.\n",
      "Computing the msd similarity matrix...\n",
      "Done computing similarity matrix.\n",
      "Evaluating RMSE, MAE of algorithm KNNWithMeans on 5 split(s).\n",
      "\n",
      "                  Fold 1  Fold 2  Fold 3  Fold 4  Fold 5  Mean    Std     \n",
      "RMSE (testset)    0.9236  0.9128  0.9171  0.9130  0.9240  0.9181  0.0049  \n",
      "MAE (testset)     0.7055  0.7004  0.7033  0.6993  0.7073  0.7032  0.0030  \n",
      "Fit time          0.27    0.29    0.29    0.30    0.29    0.29    0.01    \n",
      "Test time         1.59    1.71    1.60    1.73    1.53    1.63    0.08    \n",
      "Computing the msd similarity matrix...\n",
      "Done computing similarity matrix.\n",
      "Computing the msd similarity matrix...\n",
      "Done computing similarity matrix.\n",
      "Computing the msd similarity matrix...\n",
      "Done computing similarity matrix.\n",
      "Computing the msd similarity matrix...\n",
      "Done computing similarity matrix.\n",
      "Computing the msd similarity matrix...\n",
      "Done computing similarity matrix.\n",
      "Evaluating RMSE, MAE of algorithm KNNWithZScore on 5 split(s).\n",
      "\n",
      "                  Fold 1  Fold 2  Fold 3  Fold 4  Fold 5  Mean    Std     \n",
      "RMSE (testset)    0.9212  0.9138  0.9148  0.9131  0.9258  0.9177  0.0050  \n",
      "MAE (testset)     0.6989  0.6954  0.6965  0.6922  0.7081  0.6982  0.0054  \n",
      "Fit time          0.35    0.36    0.37    0.36    0.37    0.36    0.01    \n",
      "Test time         1.91    1.70    1.87    1.70    1.78    1.79    0.09    \n",
      "Estimating biases using als...\n",
      "Estimating biases using als...\n",
      "Estimating biases using als...\n",
      "Estimating biases using als...\n",
      "Estimating biases using als...\n",
      "Evaluating RMSE, MAE of algorithm BaselineOnly on 5 split(s).\n",
      "\n",
      "                  Fold 1  Fold 2  Fold 3  Fold 4  Fold 5  Mean    Std     \n",
      "RMSE (testset)    0.9011  0.8886  0.8890  0.8949  0.8897  0.8927  0.0048  \n",
      "MAE (testset)     0.6934  0.6893  0.6861  0.6897  0.6898  0.6897  0.0023  \n",
      "Fit time          0.24    0.25    0.25    0.29    0.26    0.26    0.02    \n",
      "Test time         0.08    0.24    0.08    0.24    0.08    0.14    0.08    \n",
      "Evaluating RMSE, MAE of algorithm CoClustering on 5 split(s).\n",
      "\n",
      "                  Fold 1  Fold 2  Fold 3  Fold 4  Fold 5  Mean    Std     \n",
      "RMSE (testset)    0.9659  0.9622  0.9713  0.9601  0.9627  0.9644  0.0039  \n",
      "MAE (testset)     0.7479  0.7444  0.7529  0.7461  0.7469  0.7476  0.0029  \n",
      "Fit time          3.29    3.16    3.22    3.18    3.17    3.20    0.05    \n",
      "Test time         0.27    0.09    0.26    0.08    0.27    0.20    0.09    \n",
      "Wall time: 43min 1s\n"
     ]
    }
   ],
   "source": [
    "%%time\n",
    "benchmark = []\n",
    "# Iterate over all algorithms\n",
    "for algorithm in [SVD(), SVDpp(), SlopeOne(), NMF(), NormalPredictor(), KNNBaseline(), KNNBasic(),\n",
    "    KNNWithMeans(), KNNWithZScore(), BaselineOnly(), CoClustering()]:\n",
    "    # Perform cross validation\n",
    "    results = cross_validate(algorithm, data, measures=['RMSE', 'MAE'], cv=5, verbose=True)\n",
    "    tmp = pd.DataFrame.from_dict(results).mean(axis=0)\n",
    "    tmp = tmp.append(pd.Series([str(algorithm).split(' ')[0].split('.')[-1]], index=['Algorithm']))\n",
    "    benchmark.append(tmp)"
   ],
   "metadata": {
    "collapsed": false,
    "pycharm": {
     "name": "#%%\n"
    }
   }
  },
  {
   "cell_type": "code",
   "execution_count": 5,
   "outputs": [
    {
     "data": {
      "text/plain": "                 test_rmse  test_mae    fit_time  test_time\nAlgorithm                                                  \nSVDpp             0.887918  0.681990  472.583791   7.783179\nBaselineOnly      0.892657  0.689650    0.259078   0.144393\nKNNBaseline       0.897219  0.687397    0.504314   1.865113\nSVD               0.897924  0.691752    5.389318   0.154710\nKNNWithZScore     0.917748  0.698225    0.362909   1.793558\nKNNWithMeans      0.918104  0.703168    0.286784   1.634070\nSlopeOne          0.927468  0.709958    4.149830   5.341648\nNMF               0.947619  0.728915    6.643606   0.171304\nCoClustering      0.964438  0.747635    3.204766   0.195114\nKNNBasic          0.968976  0.744604    0.267285   1.529478\nNormalPredictor   1.435983  1.146568    0.133735   0.170301",
      "text/html": "<div>\n<style scoped>\n    .dataframe tbody tr th:only-of-type {\n        vertical-align: middle;\n    }\n\n    .dataframe tbody tr th {\n        vertical-align: top;\n    }\n\n    .dataframe thead th {\n        text-align: right;\n    }\n</style>\n<table border=\"1\" class=\"dataframe\">\n  <thead>\n    <tr style=\"text-align: right;\">\n      <th></th>\n      <th>test_rmse</th>\n      <th>test_mae</th>\n      <th>fit_time</th>\n      <th>test_time</th>\n    </tr>\n    <tr>\n      <th>Algorithm</th>\n      <th></th>\n      <th></th>\n      <th></th>\n      <th></th>\n    </tr>\n  </thead>\n  <tbody>\n    <tr>\n      <th>SVDpp</th>\n      <td>0.887918</td>\n      <td>0.681990</td>\n      <td>472.583791</td>\n      <td>7.783179</td>\n    </tr>\n    <tr>\n      <th>BaselineOnly</th>\n      <td>0.892657</td>\n      <td>0.689650</td>\n      <td>0.259078</td>\n      <td>0.144393</td>\n    </tr>\n    <tr>\n      <th>KNNBaseline</th>\n      <td>0.897219</td>\n      <td>0.687397</td>\n      <td>0.504314</td>\n      <td>1.865113</td>\n    </tr>\n    <tr>\n      <th>SVD</th>\n      <td>0.897924</td>\n      <td>0.691752</td>\n      <td>5.389318</td>\n      <td>0.154710</td>\n    </tr>\n    <tr>\n      <th>KNNWithZScore</th>\n      <td>0.917748</td>\n      <td>0.698225</td>\n      <td>0.362909</td>\n      <td>1.793558</td>\n    </tr>\n    <tr>\n      <th>KNNWithMeans</th>\n      <td>0.918104</td>\n      <td>0.703168</td>\n      <td>0.286784</td>\n      <td>1.634070</td>\n    </tr>\n    <tr>\n      <th>SlopeOne</th>\n      <td>0.927468</td>\n      <td>0.709958</td>\n      <td>4.149830</td>\n      <td>5.341648</td>\n    </tr>\n    <tr>\n      <th>NMF</th>\n      <td>0.947619</td>\n      <td>0.728915</td>\n      <td>6.643606</td>\n      <td>0.171304</td>\n    </tr>\n    <tr>\n      <th>CoClustering</th>\n      <td>0.964438</td>\n      <td>0.747635</td>\n      <td>3.204766</td>\n      <td>0.195114</td>\n    </tr>\n    <tr>\n      <th>KNNBasic</th>\n      <td>0.968976</td>\n      <td>0.744604</td>\n      <td>0.267285</td>\n      <td>1.529478</td>\n    </tr>\n    <tr>\n      <th>NormalPredictor</th>\n      <td>1.435983</td>\n      <td>1.146568</td>\n      <td>0.133735</td>\n      <td>0.170301</td>\n    </tr>\n  </tbody>\n</table>\n</div>"
     },
     "execution_count": 5,
     "metadata": {},
     "output_type": "execute_result"
    }
   ],
   "source": [
    "pd.DataFrame(benchmark).set_index('Algorithm').sort_values('test_rmse')"
   ],
   "metadata": {
    "collapsed": false,
    "pycharm": {
     "name": "#%%\n"
    }
   }
  },
  {
   "cell_type": "code",
   "execution_count": 6,
   "outputs": [
    {
     "name": "stdout",
     "output_type": "stream",
     "text": [
      "Estimating biases using als...\n",
      "Estimating biases using als...\n",
      "Estimating biases using als...\n",
      "Estimating biases using als...\n",
      "Estimating biases using als...\n",
      "Estimating biases using als...\n",
      "Estimating biases using als...\n",
      "Estimating biases using als...\n",
      "Estimating biases using als...\n",
      "Estimating biases using als...\n",
      "Wall time: 4.95 s\n"
     ]
    },
    {
     "data": {
      "text/plain": "{'test_rmse': array([0.88865909, 0.89699849, 0.88852134, 0.87520392, 0.89113395,\n        0.87528139, 0.87692002, 0.88275517, 0.88231951, 0.89299806]),\n 'fit_time': (0.26410436630249023,\n  0.2948901653289795,\n  0.2942817211151123,\n  0.28585362434387207,\n  0.2858448028564453,\n  0.29285454750061035,\n  0.2968323230743408,\n  0.29787278175354004,\n  0.28786230087280273,\n  0.2877511978149414),\n 'test_time': (0.040979623794555664,\n  0.03897237777709961,\n  0.11295437812805176,\n  0.042975664138793945,\n  0.040976524353027344,\n  0.04499173164367676,\n  0.03997921943664551,\n  0.03697967529296875,\n  0.038980722427368164,\n  0.03950858116149902)}"
     },
     "execution_count": 6,
     "metadata": {},
     "output_type": "execute_result"
    }
   ],
   "source": [
    "%%time\n",
    "bsl_options = {'method': 'als',\n",
    "               'n_epochs': 10,\n",
    "               'reg_u': 12,\n",
    "               'reg_i': 5\n",
    "               }\n",
    "algo = BaselineOnly(bsl_options=bsl_options)\n",
    "cross_validate(algo, data, measures=['RMSE'], cv=10, verbose=False)"
   ],
   "metadata": {
    "collapsed": false,
    "pycharm": {
     "name": "#%%\n"
    }
   }
  },
  {
   "cell_type": "code",
   "execution_count": 7,
   "outputs": [
    {
     "name": "stderr",
     "output_type": "stream",
     "text": [
      "[Parallel(n_jobs=-1)]: Using backend LokyBackend with 8 concurrent workers.\n",
      "[Parallel(n_jobs=-1)]: Done  34 tasks      | elapsed:   17.8s\n",
      "[Parallel(n_jobs=-1)]: Done 184 tasks      | elapsed:  1.5min\n",
      "[Parallel(n_jobs=-1)]: Done 434 tasks      | elapsed:  6.3min\n",
      "[Parallel(n_jobs=-1)]: Done 784 tasks      | elapsed: 21.7min\n",
      "[Parallel(n_jobs=-1)]: Done 1120 out of 1120 | elapsed: 56.7min finished\n"
     ]
    },
    {
     "name": "stdout",
     "output_type": "stream",
     "text": [
      "Wall time: 57min 15s\n"
     ]
    }
   ],
   "source": [
    "%%time\n",
    "param_grid = {\n",
    "    \"n_epochs\": [5,10, 20, 30, 50, 80, 100],\n",
    "    \"lr_all\": [0.001,0.002, 0.005, 0.009],\n",
    "    \"reg_all\": [0.001, 0.02, 0.09, 0.5]\n",
    "}\n",
    "gs = GridSearchCV(SVD, param_grid, measures=[\"rmse\", \"mae\"], refit=True,n_jobs=-1, cv=10,joblib_verbose=True)\n",
    "\n",
    "gs.fit(data)"
   ],
   "metadata": {
    "collapsed": false,
    "pycharm": {
     "name": "#%%\n"
    }
   }
  },
  {
   "cell_type": "code",
   "execution_count": 8,
   "outputs": [
    {
     "data": {
      "text/plain": "     split0_test_rmse  split1_test_rmse  split2_test_rmse  split3_test_rmse  \\\n0            0.963482          0.942229          0.951265          0.964312   \n1            0.960335          0.941914          0.953888          0.964267   \n2            0.962476          0.940424          0.953007          0.964841   \n3            0.969583          0.949284          0.959032          0.971650   \n4            0.942629          0.920296          0.930950          0.944367   \n..                ...               ...               ...               ...   \n107          0.908757          0.889215          0.900027          0.912107   \n108          0.996109          0.983711          0.988611          1.000708   \n109          0.903148          0.893624          0.903736          0.901988   \n110          0.877314          0.861069          0.869496          0.876335   \n111          0.909697          0.890852          0.900902          0.913562   \n\n     split4_test_rmse  split5_test_rmse  split6_test_rmse  split7_test_rmse  \\\n0            0.945221          0.958385          0.956445          0.949648   \n1            0.943684          0.955906          0.956693          0.947078   \n2            0.944222          0.957116          0.955323          0.948746   \n3            0.952350          0.965652          0.961179          0.956273   \n4            0.923618          0.936332          0.933964          0.929631   \n..                ...               ...               ...               ...   \n107          0.890983          0.905082          0.903491          0.895869   \n108          0.986698          0.996554          0.988462          0.980532   \n109          0.886325          0.898372          0.901547          0.890416   \n110          0.858480          0.870616          0.873667          0.861636   \n111          0.893017          0.907505          0.905088          0.897737   \n\n     split8_test_rmse  split9_test_rmse  ...  std_test_mae  rank_test_mae  \\\n0            0.956811          0.953483  ...      0.004801            106   \n1            0.955582          0.952544  ...      0.004814            104   \n2            0.955813          0.953619  ...      0.004790            105   \n3            0.962091          0.961362  ...      0.004353            107   \n4            0.935851          0.933943  ...      0.005210             96   \n..                ...               ...  ...           ...            ...   \n107          0.905099          0.901598  ...      0.005035             49   \n108          0.987293          0.989977  ...      0.004149            111   \n109          0.902328          0.903099  ...      0.004706             28   \n110          0.870500          0.864669  ...      0.004597              3   \n111          0.906429          0.902993  ...      0.005038             56   \n\n     mean_fit_time  std_fit_time  mean_test_time  std_test_time  \\\n0         3.050577      0.119198        0.158708       0.004810   \n1         3.024528      0.149129        0.156874       0.025786   \n2         3.023793      0.135014        0.156278       0.025007   \n3         2.877192      0.192811        0.131497       0.010385   \n4         2.746465      0.139106        0.139002       0.020783   \n..             ...           ...             ...            ...   \n107      55.195721      0.780145        0.140088       0.009166   \n108      54.916156      0.326055        0.139320       0.013979   \n109      55.434909      0.360161        0.138720       0.009972   \n110      55.824836      0.522340        0.143617       0.011741   \n111      55.370796      1.977240        0.126059       0.028770   \n\n                                                params  param_n_epochs  \\\n0    {'n_epochs': 5, 'lr_all': 0.001, 'reg_all': 0....               5   \n1    {'n_epochs': 5, 'lr_all': 0.001, 'reg_all': 0.02}               5   \n2    {'n_epochs': 5, 'lr_all': 0.001, 'reg_all': 0.09}               5   \n3     {'n_epochs': 5, 'lr_all': 0.001, 'reg_all': 0.5}               5   \n4    {'n_epochs': 5, 'lr_all': 0.002, 'reg_all': 0....               5   \n..                                                 ...             ...   \n107  {'n_epochs': 100, 'lr_all': 0.005, 'reg_all': ...             100   \n108  {'n_epochs': 100, 'lr_all': 0.009, 'reg_all': ...             100   \n109  {'n_epochs': 100, 'lr_all': 0.009, 'reg_all': ...             100   \n110  {'n_epochs': 100, 'lr_all': 0.009, 'reg_all': ...             100   \n111  {'n_epochs': 100, 'lr_all': 0.009, 'reg_all': ...             100   \n\n     param_lr_all  param_reg_all  \n0           0.001          0.001  \n1           0.001          0.020  \n2           0.001          0.090  \n3           0.001          0.500  \n4           0.002          0.001  \n..            ...            ...  \n107         0.005          0.500  \n108         0.009          0.001  \n109         0.009          0.020  \n110         0.009          0.090  \n111         0.009          0.500  \n\n[112 rows x 34 columns]",
      "text/html": "<div>\n<style scoped>\n    .dataframe tbody tr th:only-of-type {\n        vertical-align: middle;\n    }\n\n    .dataframe tbody tr th {\n        vertical-align: top;\n    }\n\n    .dataframe thead th {\n        text-align: right;\n    }\n</style>\n<table border=\"1\" class=\"dataframe\">\n  <thead>\n    <tr style=\"text-align: right;\">\n      <th></th>\n      <th>split0_test_rmse</th>\n      <th>split1_test_rmse</th>\n      <th>split2_test_rmse</th>\n      <th>split3_test_rmse</th>\n      <th>split4_test_rmse</th>\n      <th>split5_test_rmse</th>\n      <th>split6_test_rmse</th>\n      <th>split7_test_rmse</th>\n      <th>split8_test_rmse</th>\n      <th>split9_test_rmse</th>\n      <th>...</th>\n      <th>std_test_mae</th>\n      <th>rank_test_mae</th>\n      <th>mean_fit_time</th>\n      <th>std_fit_time</th>\n      <th>mean_test_time</th>\n      <th>std_test_time</th>\n      <th>params</th>\n      <th>param_n_epochs</th>\n      <th>param_lr_all</th>\n      <th>param_reg_all</th>\n    </tr>\n  </thead>\n  <tbody>\n    <tr>\n      <th>0</th>\n      <td>0.963482</td>\n      <td>0.942229</td>\n      <td>0.951265</td>\n      <td>0.964312</td>\n      <td>0.945221</td>\n      <td>0.958385</td>\n      <td>0.956445</td>\n      <td>0.949648</td>\n      <td>0.956811</td>\n      <td>0.953483</td>\n      <td>...</td>\n      <td>0.004801</td>\n      <td>106</td>\n      <td>3.050577</td>\n      <td>0.119198</td>\n      <td>0.158708</td>\n      <td>0.004810</td>\n      <td>{'n_epochs': 5, 'lr_all': 0.001, 'reg_all': 0....</td>\n      <td>5</td>\n      <td>0.001</td>\n      <td>0.001</td>\n    </tr>\n    <tr>\n      <th>1</th>\n      <td>0.960335</td>\n      <td>0.941914</td>\n      <td>0.953888</td>\n      <td>0.964267</td>\n      <td>0.943684</td>\n      <td>0.955906</td>\n      <td>0.956693</td>\n      <td>0.947078</td>\n      <td>0.955582</td>\n      <td>0.952544</td>\n      <td>...</td>\n      <td>0.004814</td>\n      <td>104</td>\n      <td>3.024528</td>\n      <td>0.149129</td>\n      <td>0.156874</td>\n      <td>0.025786</td>\n      <td>{'n_epochs': 5, 'lr_all': 0.001, 'reg_all': 0.02}</td>\n      <td>5</td>\n      <td>0.001</td>\n      <td>0.020</td>\n    </tr>\n    <tr>\n      <th>2</th>\n      <td>0.962476</td>\n      <td>0.940424</td>\n      <td>0.953007</td>\n      <td>0.964841</td>\n      <td>0.944222</td>\n      <td>0.957116</td>\n      <td>0.955323</td>\n      <td>0.948746</td>\n      <td>0.955813</td>\n      <td>0.953619</td>\n      <td>...</td>\n      <td>0.004790</td>\n      <td>105</td>\n      <td>3.023793</td>\n      <td>0.135014</td>\n      <td>0.156278</td>\n      <td>0.025007</td>\n      <td>{'n_epochs': 5, 'lr_all': 0.001, 'reg_all': 0.09}</td>\n      <td>5</td>\n      <td>0.001</td>\n      <td>0.090</td>\n    </tr>\n    <tr>\n      <th>3</th>\n      <td>0.969583</td>\n      <td>0.949284</td>\n      <td>0.959032</td>\n      <td>0.971650</td>\n      <td>0.952350</td>\n      <td>0.965652</td>\n      <td>0.961179</td>\n      <td>0.956273</td>\n      <td>0.962091</td>\n      <td>0.961362</td>\n      <td>...</td>\n      <td>0.004353</td>\n      <td>107</td>\n      <td>2.877192</td>\n      <td>0.192811</td>\n      <td>0.131497</td>\n      <td>0.010385</td>\n      <td>{'n_epochs': 5, 'lr_all': 0.001, 'reg_all': 0.5}</td>\n      <td>5</td>\n      <td>0.001</td>\n      <td>0.500</td>\n    </tr>\n    <tr>\n      <th>4</th>\n      <td>0.942629</td>\n      <td>0.920296</td>\n      <td>0.930950</td>\n      <td>0.944367</td>\n      <td>0.923618</td>\n      <td>0.936332</td>\n      <td>0.933964</td>\n      <td>0.929631</td>\n      <td>0.935851</td>\n      <td>0.933943</td>\n      <td>...</td>\n      <td>0.005210</td>\n      <td>96</td>\n      <td>2.746465</td>\n      <td>0.139106</td>\n      <td>0.139002</td>\n      <td>0.020783</td>\n      <td>{'n_epochs': 5, 'lr_all': 0.002, 'reg_all': 0....</td>\n      <td>5</td>\n      <td>0.002</td>\n      <td>0.001</td>\n    </tr>\n    <tr>\n      <th>...</th>\n      <td>...</td>\n      <td>...</td>\n      <td>...</td>\n      <td>...</td>\n      <td>...</td>\n      <td>...</td>\n      <td>...</td>\n      <td>...</td>\n      <td>...</td>\n      <td>...</td>\n      <td>...</td>\n      <td>...</td>\n      <td>...</td>\n      <td>...</td>\n      <td>...</td>\n      <td>...</td>\n      <td>...</td>\n      <td>...</td>\n      <td>...</td>\n      <td>...</td>\n      <td>...</td>\n    </tr>\n    <tr>\n      <th>107</th>\n      <td>0.908757</td>\n      <td>0.889215</td>\n      <td>0.900027</td>\n      <td>0.912107</td>\n      <td>0.890983</td>\n      <td>0.905082</td>\n      <td>0.903491</td>\n      <td>0.895869</td>\n      <td>0.905099</td>\n      <td>0.901598</td>\n      <td>...</td>\n      <td>0.005035</td>\n      <td>49</td>\n      <td>55.195721</td>\n      <td>0.780145</td>\n      <td>0.140088</td>\n      <td>0.009166</td>\n      <td>{'n_epochs': 100, 'lr_all': 0.005, 'reg_all': ...</td>\n      <td>100</td>\n      <td>0.005</td>\n      <td>0.500</td>\n    </tr>\n    <tr>\n      <th>108</th>\n      <td>0.996109</td>\n      <td>0.983711</td>\n      <td>0.988611</td>\n      <td>1.000708</td>\n      <td>0.986698</td>\n      <td>0.996554</td>\n      <td>0.988462</td>\n      <td>0.980532</td>\n      <td>0.987293</td>\n      <td>0.989977</td>\n      <td>...</td>\n      <td>0.004149</td>\n      <td>111</td>\n      <td>54.916156</td>\n      <td>0.326055</td>\n      <td>0.139320</td>\n      <td>0.013979</td>\n      <td>{'n_epochs': 100, 'lr_all': 0.009, 'reg_all': ...</td>\n      <td>100</td>\n      <td>0.009</td>\n      <td>0.001</td>\n    </tr>\n    <tr>\n      <th>109</th>\n      <td>0.903148</td>\n      <td>0.893624</td>\n      <td>0.903736</td>\n      <td>0.901988</td>\n      <td>0.886325</td>\n      <td>0.898372</td>\n      <td>0.901547</td>\n      <td>0.890416</td>\n      <td>0.902328</td>\n      <td>0.903099</td>\n      <td>...</td>\n      <td>0.004706</td>\n      <td>28</td>\n      <td>55.434909</td>\n      <td>0.360161</td>\n      <td>0.138720</td>\n      <td>0.009972</td>\n      <td>{'n_epochs': 100, 'lr_all': 0.009, 'reg_all': ...</td>\n      <td>100</td>\n      <td>0.009</td>\n      <td>0.020</td>\n    </tr>\n    <tr>\n      <th>110</th>\n      <td>0.877314</td>\n      <td>0.861069</td>\n      <td>0.869496</td>\n      <td>0.876335</td>\n      <td>0.858480</td>\n      <td>0.870616</td>\n      <td>0.873667</td>\n      <td>0.861636</td>\n      <td>0.870500</td>\n      <td>0.864669</td>\n      <td>...</td>\n      <td>0.004597</td>\n      <td>3</td>\n      <td>55.824836</td>\n      <td>0.522340</td>\n      <td>0.143617</td>\n      <td>0.011741</td>\n      <td>{'n_epochs': 100, 'lr_all': 0.009, 'reg_all': ...</td>\n      <td>100</td>\n      <td>0.009</td>\n      <td>0.090</td>\n    </tr>\n    <tr>\n      <th>111</th>\n      <td>0.909697</td>\n      <td>0.890852</td>\n      <td>0.900902</td>\n      <td>0.913562</td>\n      <td>0.893017</td>\n      <td>0.907505</td>\n      <td>0.905088</td>\n      <td>0.897737</td>\n      <td>0.906429</td>\n      <td>0.902993</td>\n      <td>...</td>\n      <td>0.005038</td>\n      <td>56</td>\n      <td>55.370796</td>\n      <td>1.977240</td>\n      <td>0.126059</td>\n      <td>0.028770</td>\n      <td>{'n_epochs': 100, 'lr_all': 0.009, 'reg_all': ...</td>\n      <td>100</td>\n      <td>0.009</td>\n      <td>0.500</td>\n    </tr>\n  </tbody>\n</table>\n<p>112 rows × 34 columns</p>\n</div>"
     },
     "execution_count": 8,
     "metadata": {},
     "output_type": "execute_result"
    }
   ],
   "source": [
    "results_df = pd.DataFrame.from_dict(gs.cv_results)\n",
    "results_df"
   ],
   "metadata": {
    "collapsed": false,
    "pycharm": {
     "name": "#%%\n"
    }
   }
  },
  {
   "cell_type": "code",
   "execution_count": 9,
   "outputs": [
    {
     "name": "stdout",
     "output_type": "stream",
     "text": [
      "BEST RMSE: \t 0.8677772476305222\n",
      "BEST MAE: \t 0.6656959141592061\n",
      "BEST params: \t {'n_epochs': 100, 'lr_all': 0.005, 'reg_all': 0.09}\n"
     ]
    }
   ],
   "source": [
    "training_parameters = gs.best_params[\"rmse\"]\n",
    "\n",
    "print(\"BEST RMSE: \\t\", gs.best_score[\"rmse\"])\n",
    "print(\"BEST MAE: \\t\", gs.best_score[\"mae\"])\n",
    "print(\"BEST params: \\t\", gs.best_params[\"rmse\"])"
   ],
   "metadata": {
    "collapsed": false,
    "pycharm": {
     "name": "#%%\n"
    }
   }
  },
  {
   "cell_type": "code",
   "execution_count": 10,
   "outputs": [
    {
     "data": {
      "text/plain": "{'n_epochs': 100, 'lr_all': 0.005, 'reg_all': 0.09}"
     },
     "execution_count": 10,
     "metadata": {},
     "output_type": "execute_result"
    }
   ],
   "source": [
    "training_parameters"
   ],
   "metadata": {
    "collapsed": false,
    "pycharm": {
     "name": "#%%\n"
    }
   }
  },
  {
   "cell_type": "code",
   "execution_count": 11,
   "outputs": [
    {
     "name": "stdout",
     "output_type": "stream",
     "text": [
      "Processing epoch 0\n",
      "Processing epoch 1\n",
      "Processing epoch 2\n",
      "Processing epoch 3\n",
      "Processing epoch 4\n",
      "Processing epoch 5\n",
      "Processing epoch 6\n",
      "Processing epoch 7\n",
      "Processing epoch 8\n",
      "Processing epoch 9\n",
      "Processing epoch 10\n",
      "Processing epoch 11\n",
      "Processing epoch 12\n",
      "Processing epoch 13\n",
      "Processing epoch 14\n",
      "Processing epoch 15\n",
      "Processing epoch 16\n",
      "Processing epoch 17\n",
      "Processing epoch 18\n",
      "Processing epoch 19\n",
      "Processing epoch 20\n",
      "Processing epoch 21\n",
      "Processing epoch 22\n",
      "Processing epoch 23\n",
      "Processing epoch 24\n",
      "Processing epoch 25\n",
      "Processing epoch 26\n",
      "Processing epoch 27\n",
      "Processing epoch 28\n",
      "Processing epoch 29\n",
      "Processing epoch 30\n",
      "Processing epoch 31\n",
      "Processing epoch 32\n",
      "Processing epoch 33\n",
      "Processing epoch 34\n",
      "Processing epoch 35\n",
      "Processing epoch 36\n",
      "Processing epoch 37\n",
      "Processing epoch 38\n",
      "Processing epoch 39\n",
      "Processing epoch 40\n",
      "Processing epoch 41\n",
      "Processing epoch 42\n",
      "Processing epoch 43\n",
      "Processing epoch 44\n",
      "Processing epoch 45\n",
      "Processing epoch 46\n",
      "Processing epoch 47\n",
      "Processing epoch 48\n",
      "Processing epoch 49\n",
      "Processing epoch 50\n",
      "Processing epoch 51\n",
      "Processing epoch 52\n",
      "Processing epoch 53\n",
      "Processing epoch 54\n",
      "Processing epoch 55\n",
      "Processing epoch 56\n",
      "Processing epoch 57\n",
      "Processing epoch 58\n",
      "Processing epoch 59\n",
      "Processing epoch 60\n",
      "Processing epoch 61\n",
      "Processing epoch 62\n",
      "Processing epoch 63\n",
      "Processing epoch 64\n",
      "Processing epoch 65\n",
      "Processing epoch 66\n",
      "Processing epoch 67\n",
      "Processing epoch 68\n",
      "Processing epoch 69\n",
      "Processing epoch 70\n",
      "Processing epoch 71\n",
      "Processing epoch 72\n",
      "Processing epoch 73\n",
      "Processing epoch 74\n",
      "Processing epoch 75\n",
      "Processing epoch 76\n",
      "Processing epoch 77\n",
      "Processing epoch 78\n",
      "Processing epoch 79\n",
      "Processing epoch 80\n",
      "Processing epoch 81\n",
      "Processing epoch 82\n",
      "Processing epoch 83\n",
      "Processing epoch 84\n",
      "Processing epoch 85\n",
      "Processing epoch 86\n",
      "Processing epoch 87\n",
      "Processing epoch 88\n",
      "Processing epoch 89\n",
      "Processing epoch 90\n",
      "Processing epoch 91\n",
      "Processing epoch 92\n",
      "Processing epoch 93\n",
      "Processing epoch 94\n",
      "Processing epoch 95\n",
      "Processing epoch 96\n",
      "Processing epoch 97\n",
      "Processing epoch 98\n",
      "Processing epoch 99\n",
      "Wall time: 28.1 s\n"
     ]
    },
    {
     "data": {
      "text/plain": "<surprise.prediction_algorithms.matrix_factorization.SVD at 0x1f292088550>"
     },
     "execution_count": 11,
     "metadata": {},
     "output_type": "execute_result"
    }
   ],
   "source": [
    "%%time\n",
    "trainset = data.build_full_trainset()\n",
    "msvd = SVD(n_epochs = training_parameters['n_epochs'], lr_all = training_parameters['lr_all'], reg_all = training_parameters['reg_all'], verbose=True)\n",
    "msvd.fit(trainset)"
   ],
   "metadata": {
    "collapsed": false,
    "pycharm": {
     "name": "#%%\n"
    }
   }
  },
  {
   "cell_type": "markdown",
   "source": [
    "check prediction"
   ],
   "metadata": {
    "collapsed": false
   }
  },
  {
   "cell_type": "code",
   "execution_count": 12,
   "outputs": [
    {
     "data": {
      "text/plain": "    userId  movieId  rating   timestamp\n0        1       31     2.5  1260759144\n1        1     1029     3.0  1260759179\n2        1     1061     3.0  1260759182\n3        1     1129     2.0  1260759185\n4        1     1172     4.0  1260759205\n5        1     1263     2.0  1260759151\n6        1     1287     2.0  1260759187\n7        1     1293     2.0  1260759148\n8        1     1339     3.5  1260759125\n9        1     1343     2.0  1260759131\n10       1     1371     2.5  1260759135\n11       1     1405     1.0  1260759203\n12       1     1953     4.0  1260759191\n13       1     2105     4.0  1260759139\n14       1     2150     3.0  1260759194\n15       1     2193     2.0  1260759198\n16       1     2294     2.0  1260759108\n17       1     2455     2.5  1260759113\n18       1     2968     1.0  1260759200\n19       1     3671     3.0  1260759117",
      "text/html": "<div>\n<style scoped>\n    .dataframe tbody tr th:only-of-type {\n        vertical-align: middle;\n    }\n\n    .dataframe tbody tr th {\n        vertical-align: top;\n    }\n\n    .dataframe thead th {\n        text-align: right;\n    }\n</style>\n<table border=\"1\" class=\"dataframe\">\n  <thead>\n    <tr style=\"text-align: right;\">\n      <th></th>\n      <th>userId</th>\n      <th>movieId</th>\n      <th>rating</th>\n      <th>timestamp</th>\n    </tr>\n  </thead>\n  <tbody>\n    <tr>\n      <th>0</th>\n      <td>1</td>\n      <td>31</td>\n      <td>2.5</td>\n      <td>1260759144</td>\n    </tr>\n    <tr>\n      <th>1</th>\n      <td>1</td>\n      <td>1029</td>\n      <td>3.0</td>\n      <td>1260759179</td>\n    </tr>\n    <tr>\n      <th>2</th>\n      <td>1</td>\n      <td>1061</td>\n      <td>3.0</td>\n      <td>1260759182</td>\n    </tr>\n    <tr>\n      <th>3</th>\n      <td>1</td>\n      <td>1129</td>\n      <td>2.0</td>\n      <td>1260759185</td>\n    </tr>\n    <tr>\n      <th>4</th>\n      <td>1</td>\n      <td>1172</td>\n      <td>4.0</td>\n      <td>1260759205</td>\n    </tr>\n    <tr>\n      <th>5</th>\n      <td>1</td>\n      <td>1263</td>\n      <td>2.0</td>\n      <td>1260759151</td>\n    </tr>\n    <tr>\n      <th>6</th>\n      <td>1</td>\n      <td>1287</td>\n      <td>2.0</td>\n      <td>1260759187</td>\n    </tr>\n    <tr>\n      <th>7</th>\n      <td>1</td>\n      <td>1293</td>\n      <td>2.0</td>\n      <td>1260759148</td>\n    </tr>\n    <tr>\n      <th>8</th>\n      <td>1</td>\n      <td>1339</td>\n      <td>3.5</td>\n      <td>1260759125</td>\n    </tr>\n    <tr>\n      <th>9</th>\n      <td>1</td>\n      <td>1343</td>\n      <td>2.0</td>\n      <td>1260759131</td>\n    </tr>\n    <tr>\n      <th>10</th>\n      <td>1</td>\n      <td>1371</td>\n      <td>2.5</td>\n      <td>1260759135</td>\n    </tr>\n    <tr>\n      <th>11</th>\n      <td>1</td>\n      <td>1405</td>\n      <td>1.0</td>\n      <td>1260759203</td>\n    </tr>\n    <tr>\n      <th>12</th>\n      <td>1</td>\n      <td>1953</td>\n      <td>4.0</td>\n      <td>1260759191</td>\n    </tr>\n    <tr>\n      <th>13</th>\n      <td>1</td>\n      <td>2105</td>\n      <td>4.0</td>\n      <td>1260759139</td>\n    </tr>\n    <tr>\n      <th>14</th>\n      <td>1</td>\n      <td>2150</td>\n      <td>3.0</td>\n      <td>1260759194</td>\n    </tr>\n    <tr>\n      <th>15</th>\n      <td>1</td>\n      <td>2193</td>\n      <td>2.0</td>\n      <td>1260759198</td>\n    </tr>\n    <tr>\n      <th>16</th>\n      <td>1</td>\n      <td>2294</td>\n      <td>2.0</td>\n      <td>1260759108</td>\n    </tr>\n    <tr>\n      <th>17</th>\n      <td>1</td>\n      <td>2455</td>\n      <td>2.5</td>\n      <td>1260759113</td>\n    </tr>\n    <tr>\n      <th>18</th>\n      <td>1</td>\n      <td>2968</td>\n      <td>1.0</td>\n      <td>1260759200</td>\n    </tr>\n    <tr>\n      <th>19</th>\n      <td>1</td>\n      <td>3671</td>\n      <td>3.0</td>\n      <td>1260759117</td>\n    </tr>\n  </tbody>\n</table>\n</div>"
     },
     "execution_count": 12,
     "metadata": {},
     "output_type": "execute_result"
    }
   ],
   "source": [
    "ratings[ratings['userId'] == 1]"
   ],
   "metadata": {
    "collapsed": false,
    "pycharm": {
     "name": "#%%\n"
    }
   }
  },
  {
   "cell_type": "code",
   "execution_count": 13,
   "outputs": [
    {
     "data": {
      "text/plain": "Prediction(uid=1, iid=3671, r_ui=3, est=3.1523608242169554, details={'was_impossible': False})"
     },
     "execution_count": 13,
     "metadata": {},
     "output_type": "execute_result"
    }
   ],
   "source": [
    "msvd.predict(1, 3671, 3)\n"
   ],
   "metadata": {
    "collapsed": false,
    "pycharm": {
     "name": "#%%\n"
    }
   }
  }
 ],
 "metadata": {
  "kernelspec": {
   "display_name": "Python 3",
   "language": "python",
   "name": "python3"
  },
  "language_info": {
   "codemirror_mode": {
    "name": "ipython",
    "version": 2
   },
   "file_extension": ".py",
   "mimetype": "text/x-python",
   "name": "python",
   "nbconvert_exporter": "python",
   "pygments_lexer": "ipython2",
   "version": "2.7.6"
  }
 },
 "nbformat": 4,
 "nbformat_minor": 0
}